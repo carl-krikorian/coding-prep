{
 "cells": [
  {
   "cell_type": "code",
   "execution_count": 20,
   "id": "6896121a-318e-4be0-8746-a6b011aa0c65",
   "metadata": {},
   "outputs": [],
   "source": [
    "# https://github.com/aminuolawale/Data-Structures-and-Algorithms-in-Python-exercises"
   ]
  },
  {
   "cell_type": "markdown",
   "id": "27159c82-f9f1-4643-afd5-f19aa0bd49a9",
   "metadata": {
    "jp-MarkdownHeadingCollapsed": true,
    "tags": []
   },
   "source": [
    "# Chapter 1"
   ]
  },
  {
   "cell_type": "markdown",
   "id": "591805ac-5e21-455e-a304-61dfee317f63",
   "metadata": {},
   "source": [
    "R-1.1"
   ]
  },
  {
   "cell_type": "code",
   "execution_count": 21,
   "id": "cf18afdf-6805-4e99-92c4-0687dfb4f5a0",
   "metadata": {},
   "outputs": [],
   "source": [
    "def is_multiple(n, m):\n",
    "    if n % m == 0:\n",
    "        return True\n",
    "    return False\n"
   ]
  },
  {
   "cell_type": "code",
   "execution_count": 22,
   "id": "d4690446-8aaf-4cc0-9edb-d89ad97126d2",
   "metadata": {},
   "outputs": [
    {
     "data": {
      "text/plain": [
       "True"
      ]
     },
     "execution_count": 22,
     "metadata": {},
     "output_type": "execute_result"
    }
   ],
   "source": [
    "is_multiple(16, 8)"
   ]
  },
  {
   "cell_type": "markdown",
   "id": "7ea0e21f-6318-48d2-90fd-58fd53bcd754",
   "metadata": {},
   "source": [
    "R-1.2"
   ]
  },
  {
   "cell_type": "code",
   "execution_count": 23,
   "id": "221cfd83-2084-4a31-8c18-091b14561f0b",
   "metadata": {},
   "outputs": [],
   "source": [
    "def is_even(k):\n",
    "    k = str(k)\n",
    "    if k[-1] in [\"0\", \"2\", \"4\", \"6\", \"8\"]:\n",
    "        return True\n",
    "    return False\n",
    "\n",
    "#\n",
    "\n",
    "# def is_even(k):\n",
    "#     if k == 0 :\n",
    "#         return True\n",
    "#     elif k == 1:\n",
    "#         return False\n",
    "#     else:\n",
    "#         return is_even(k-2)\n",
    "\n",
    "\n",
    "# print(is_even(601))"
   ]
  },
  {
   "cell_type": "code",
   "execution_count": 24,
   "id": "678b69fd-f7e0-45fd-92c4-8ce4d3fe8f21",
   "metadata": {},
   "outputs": [
    {
     "data": {
      "text/plain": [
       "True"
      ]
     },
     "execution_count": 24,
     "metadata": {},
     "output_type": "execute_result"
    }
   ],
   "source": [
    "is_even(30)"
   ]
  },
  {
   "cell_type": "markdown",
   "id": "50c55075-0e30-4344-a6da-4e38abc226fd",
   "metadata": {},
   "source": [
    "R-1.3 "
   ]
  },
  {
   "cell_type": "code",
   "execution_count": 28,
   "id": "b67c4b28-7d59-4cb3-ba27-e73c8e67cc13",
   "metadata": {},
   "outputs": [],
   "source": [
    "def minmax(data):\n",
    "    minimum = float(\"inf\")\n",
    "    maximum = float(\"-inf\")\n",
    "    for cur in data:\n",
    "        if cur < minimum:\n",
    "            minimum = cur\n",
    "        if cur > maximum:\n",
    "            maximum = cur\n",
    "    return minimum, maximum"
   ]
  },
  {
   "cell_type": "code",
   "execution_count": 31,
   "id": "e9fe9821-102d-4972-8696-cbd1f9b92360",
   "metadata": {},
   "outputs": [
    {
     "data": {
      "text/plain": [
       "(-12, 823)"
      ]
     },
     "execution_count": 31,
     "metadata": {},
     "output_type": "execute_result"
    }
   ],
   "source": [
    "minmax((1, -12, 2, 3, 823, 4))"
   ]
  },
  {
   "cell_type": "markdown",
   "id": "cd2993ac-dd54-4e1b-b9a3-ba6730f7e26e",
   "metadata": {},
   "source": [
    "R.1-4"
   ]
  },
  {
   "cell_type": "code",
   "execution_count": 37,
   "id": "9659ae8b-9620-429b-8f12-a0fd382b5ce2",
   "metadata": {},
   "outputs": [],
   "source": [
    "def sum_squares_up_to(n):\n",
    "    res = 0\n",
    "    for i in range(1, n):\n",
    "        res += i*i\n",
    "    return res"
   ]
  },
  {
   "cell_type": "code",
   "execution_count": 38,
   "id": "ae8f19eb-8345-450a-9e5b-c7a4d5b3239c",
   "metadata": {},
   "outputs": [
    {
     "data": {
      "text/plain": [
       "285"
      ]
     },
     "execution_count": 38,
     "metadata": {},
     "output_type": "execute_result"
    }
   ],
   "source": [
    "sum_squares_up_to(10)"
   ]
  },
  {
   "cell_type": "markdown",
   "id": "802222d3-f4b6-4092-8197-4c29308d63f1",
   "metadata": {},
   "source": [
    "R.1-5"
   ]
  },
  {
   "cell_type": "code",
   "execution_count": 39,
   "id": "315effd5-94fb-4c0d-9412-a028393c3f7e",
   "metadata": {},
   "outputs": [],
   "source": [
    "def ez_sum_squares_up_to(n):\n",
    "    return sum(i*i for i in range(1, n))"
   ]
  },
  {
   "cell_type": "code",
   "execution_count": 40,
   "id": "7e1f17e7-e737-455a-a5b4-eb233872169e",
   "metadata": {},
   "outputs": [
    {
     "data": {
      "text/plain": [
       "285"
      ]
     },
     "execution_count": 40,
     "metadata": {},
     "output_type": "execute_result"
    }
   ],
   "source": [
    "r14(10)"
   ]
  },
  {
   "cell_type": "markdown",
   "id": "39f48088-3bb5-4d34-ae89-6afe470bc88c",
   "metadata": {},
   "source": [
    "R.1-6 / R.1-7"
   ]
  },
  {
   "cell_type": "code",
   "execution_count": 48,
   "id": "a408e1ca-c2ce-48fe-b9d4-5c575844dc7f",
   "metadata": {},
   "outputs": [],
   "source": [
    "def ez_odd_sum_squares_up_to(n):\n",
    "    return sum(i*i if (i%2 == 1) else 0 for i in range(1,n))"
   ]
  },
  {
   "cell_type": "code",
   "execution_count": 49,
   "id": "4310d16f-2b3d-43b6-a4d0-21f19c480457",
   "metadata": {},
   "outputs": [
    {
     "data": {
      "text/plain": [
       "165"
      ]
     },
     "execution_count": 49,
     "metadata": {},
     "output_type": "execute_result"
    }
   ],
   "source": [
    "ez_odd_sum_squares_up_to(10)"
   ]
  },
  {
   "cell_type": "markdown",
   "id": "3704771d-47f6-44d3-9017-e193e8199804",
   "metadata": {},
   "source": [
    "R.1-8"
   ]
  },
  {
   "cell_type": "code",
   "execution_count": 50,
   "id": "997dfe29-a137-49f9-92a8-07eb65274d9c",
   "metadata": {},
   "outputs": [],
   "source": [
    "# j= n+k"
   ]
  },
  {
   "cell_type": "markdown",
   "id": "6400989f-9fa7-45c1-b483-c8fc72088f7b",
   "metadata": {},
   "source": [
    "R-1.9"
   ]
  },
  {
   "cell_type": "code",
   "execution_count": 54,
   "id": "b1d3d2bc-31d1-47a9-a790-bdac3cb953e6",
   "metadata": {},
   "outputs": [
    {
     "data": {
      "text/plain": [
       "[50, 60, 70, 80]"
      ]
     },
     "execution_count": 54,
     "metadata": {},
     "output_type": "execute_result"
    }
   ],
   "source": [
    "[i for i in range(50, 90, 10)]"
   ]
  },
  {
   "cell_type": "markdown",
   "id": "39d0eadc-8fc9-488b-9bd8-e5fb66db4a9c",
   "metadata": {},
   "source": [
    "R-1.10"
   ]
  },
  {
   "cell_type": "code",
   "execution_count": 53,
   "id": "9f5b721b-5a78-4554-b795-f5a1b503fc64",
   "metadata": {},
   "outputs": [
    {
     "data": {
      "text/plain": [
       "[8, 6, 4, 2, 0, -2, -4, -6, -8]"
      ]
     },
     "execution_count": 53,
     "metadata": {},
     "output_type": "execute_result"
    }
   ],
   "source": [
    "[i for i in range(8, -9, -2)]"
   ]
  },
  {
   "cell_type": "markdown",
   "id": "b169d0b7-f152-4008-9d2d-ef121154baa0",
   "metadata": {},
   "source": [
    "R-1.11"
   ]
  },
  {
   "cell_type": "code",
   "execution_count": 62,
   "id": "520b87aa-e881-4ccf-8e93-b557007cad98",
   "metadata": {},
   "outputs": [
    {
     "data": {
      "text/plain": [
       "[1, 2, 4, 8, 16, 32, 64, 128, 256]"
      ]
     },
     "execution_count": 62,
     "metadata": {},
     "output_type": "execute_result"
    }
   ],
   "source": [
    "[pow(2,i) for i in range(9)]"
   ]
  },
  {
   "cell_type": "markdown",
   "id": "bf9d582f-4f87-4114-a590-217cf0752495",
   "metadata": {},
   "source": [
    "R-1.11"
   ]
  },
  {
   "cell_type": "code",
   "execution_count": 78,
   "id": "e0591d0e-ae29-432e-bad9-cbd17ebdfb08",
   "metadata": {},
   "outputs": [],
   "source": [
    "from random import randrange\n",
    "\n",
    "def custom_choice(data):\n",
    "    return data[randrange(len(data))]"
   ]
  },
  {
   "cell_type": "code",
   "execution_count": 95,
   "id": "5e2a743f-8018-4a89-9ed6-6cec698f2b9c",
   "metadata": {},
   "outputs": [
    {
     "data": {
      "text/plain": [
       "34"
      ]
     },
     "execution_count": 95,
     "metadata": {},
     "output_type": "execute_result"
    }
   ],
   "source": [
    "custom_choice([1,2,34,5,6])"
   ]
  },
  {
   "cell_type": "markdown",
   "id": "e61a6c61-5279-4176-9aaf-3aa741afbb06",
   "metadata": {},
   "source": [
    "C-1.13"
   ]
  },
  {
   "cell_type": "code",
   "execution_count": 99,
   "id": "29f73642-527c-45d2-a8de-3d5966533b51",
   "metadata": {},
   "outputs": [],
   "source": [
    "# comparison with reverse\n",
    "def custom_reverse(data):\n",
    "    # return data[::-1]\n",
    "    return [data[i] for i in range(len(data)-1, -1, -1)]"
   ]
  },
  {
   "cell_type": "code",
   "execution_count": 100,
   "id": "6ff6c48f-572e-4c80-be9a-a7380128af67",
   "metadata": {},
   "outputs": [
    {
     "data": {
      "text/plain": [
       "[5, 4, 3, 2, 1]"
      ]
     },
     "execution_count": 100,
     "metadata": {},
     "output_type": "execute_result"
    }
   ],
   "source": [
    "custom_reverse([1, 2 ,3 ,4 ,5])"
   ]
  },
  {
   "cell_type": "markdown",
   "id": "575e7e7b-0862-40ad-bd85-ab6d1f500c74",
   "metadata": {},
   "source": [
    "C-1.14"
   ]
  },
  {
   "cell_type": "code",
   "execution_count": 102,
   "id": "45980d9c-5b86-4ef4-a46e-e73283c35db3",
   "metadata": {},
   "outputs": [],
   "source": [
    "# distinct odd pair\n",
    "def distinct_odd_pair(data):\n",
    "    data = set(data)\n",
    "    odd_counter = 0\n",
    "    for ele in data:\n",
    "        if ele % 2 == 1:\n",
    "            odd_counter += 1\n",
    "        if odd_counter == 2:\n",
    "            return True\n",
    "    return False"
   ]
  },
  {
   "cell_type": "code",
   "execution_count": 107,
   "id": "7e3506ce-90f4-4f79-89ab-c9edfb4351ff",
   "metadata": {},
   "outputs": [],
   "source": [
    "assert(distinct_odd_pair([1, 2, 4, 5, 9]) == True)\n",
    "assert(distinct_odd_pair([4, 2, 4, 5, 6]) == False)"
   ]
  },
  {
   "cell_type": "markdown",
   "id": "e0e4b537-e46e-4bcf-b2f9-ab68710d35ae",
   "metadata": {},
   "source": [
    "C-1.15"
   ]
  },
  {
   "cell_type": "code",
   "execution_count": 108,
   "id": "21200438-6e52-43ad-996f-9f95ec34e8d3",
   "metadata": {},
   "outputs": [],
   "source": [
    "def all_distinct(data):\n",
    "    visited = set()\n",
    "    for ele in data:\n",
    "        if ele not in visited:\n",
    "            visited.add(ele)\n",
    "        else:\n",
    "            return False\n",
    "    return True"
   ]
  },
  {
   "cell_type": "code",
   "execution_count": 112,
   "id": "01b28c5c-83f9-43e6-acdd-c34dbe205658",
   "metadata": {},
   "outputs": [
    {
     "data": {
      "text/plain": [
       "False"
      ]
     },
     "execution_count": 112,
     "metadata": {},
     "output_type": "execute_result"
    }
   ],
   "source": [
    "all_distinct([1, 2, 3, 4 ,5, 6, 6])"
   ]
  },
  {
   "cell_type": "markdown",
   "id": "2b7ebebb-d632-430b-884c-c244386581b6",
   "metadata": {},
   "source": [
    "C-1.16"
   ]
  },
  {
   "cell_type": "markdown",
   "id": "ac91e056-d444-4923-b5e8-0625a2d1e528",
   "metadata": {
    "jp-MarkdownHeadingCollapsed": true,
    "tags": []
   },
   "source": [
    "# Chapter 2"
   ]
  },
  {
   "cell_type": "markdown",
   "id": "12fc4fe2-d00a-427d-9169-8e0d26dbc98e",
   "metadata": {
    "jp-MarkdownHeadingCollapsed": true,
    "tags": []
   },
   "source": [
    "## R-2.1\n"
   ]
  },
  {
   "cell_type": "code",
   "execution_count": 5,
   "id": "81a468f8-55a5-4e01-940a-c79d9c3cbae9",
   "metadata": {},
   "outputs": [],
   "source": [
    "# Examples:\n",
    "# biomedical surgery: Surgical tools such as x-ray\n",
    "# transportation software: airplane software\n",
    "# energy: Nuclear energy software"
   ]
  },
  {
   "cell_type": "markdown",
   "id": "64103a55-a2c8-45ca-8d45-21675cd1c015",
   "metadata": {
    "jp-MarkdownHeadingCollapsed": true,
    "tags": []
   },
   "source": [
    "## R-2.2"
   ]
  },
  {
   "cell_type": "code",
   "execution_count": 6,
   "id": "d6567296-a2ad-46d9-b99c-34e3cc402e10",
   "metadata": {},
   "outputs": [],
   "source": [
    "# ATM/ sales website"
   ]
  },
  {
   "cell_type": "markdown",
   "id": "7beef7c2-dc02-488d-abe3-1678695a7484",
   "metadata": {
    "jp-MarkdownHeadingCollapsed": true,
    "tags": []
   },
   "source": [
    "## R-2.3"
   ]
  },
  {
   "cell_type": "code",
   "execution_count": 7,
   "id": "b1ceb278-6356-4a9e-b8d4-44200a6d191b",
   "metadata": {},
   "outputs": [],
   "source": [
    "# Window component\n",
    "# has methods like display(), minimize(), maximize()\n",
    "# has members like size"
   ]
  },
  {
   "cell_type": "markdown",
   "id": "f7a34f79-a007-4616-9af6-259b63545e3c",
   "metadata": {
    "tags": []
   },
   "source": [
    "## R-2.4"
   ]
  },
  {
   "cell_type": "code",
   "execution_count": 9,
   "id": "420c68cc-5be8-485e-9193-08fa6a115435",
   "metadata": {
    "tags": []
   },
   "outputs": [],
   "source": [
    "class Flower:\n",
    "    def __init__(self, petals = None, name = None, price = None):\n",
    "        self._petals = petals\n",
    "        self._name = name\n",
    "        self._price = price\n",
    "    \n",
    "    def set_name(self, name):\n",
    "        self._name = name\n",
    "        return True\n",
    "    def set_price(self, price):\n",
    "        self._price(price)\n",
    "        \n",
    "    def set_petals(self, petals):\n",
    "        self._petals = petals\n",
    "        return True\n",
    "    \n",
    "    def get_name(self):\n",
    "        return self._name\n",
    "    \n",
    "    def get_price(self):\n",
    "        return self._price\n",
    "    \n",
    "    def get_petals(self):\n",
    "        return self._petals"
   ]
  },
  {
   "cell_type": "markdown",
   "id": "26e28ac4-bf63-4e1c-93d6-9a9f0c63d122",
   "metadata": {},
   "source": [
    "## R-2.5"
   ]
  },
  {
   "cell_type": "code",
   "execution_count": 11,
   "id": "591c1ef6-9b76-4c3f-ae62-d75574ce853e",
   "metadata": {},
   "outputs": [],
   "source": [
    "# charge and make_payment\n",
    "\n",
    "\n",
    "def charge(self, price):\n",
    "    \"\"\" Charge given price to the card, assuming sufficient limit\n",
    "    Return True if charge was processed; False if charge was denied\n",
    "    \"\"\"\n",
    "    if not isinstance(price, (float, int)):\n",
    "        print(\"please input a numeric price\")\n",
    "    if self.price + self._balance > self._limit:\n",
    "        return False\n",
    "    self._balance += price\n",
    "    return True"
   ]
  },
  {
   "cell_type": "markdown",
   "id": "01d067cb-8ce5-4b07-ad84-f0d889e5e434",
   "metadata": {
    "jp-MarkdownHeadingCollapsed": true,
    "tags": []
   },
   "source": [
    "# Chapter 3"
   ]
  },
  {
   "cell_type": "markdown",
   "id": "59ad4444-9ae2-4590-bca9-45e1fd4542e4",
   "metadata": {},
   "source": [
    "## C-3.37"
   ]
  },
  {
   "cell_type": "code",
   "execution_count": 1,
   "id": "c748fc28-592e-400c-8686-1e516948b977",
   "metadata": {},
   "outputs": [],
   "source": [
    "# find the ten biggest numbers\n",
    "test = [10, 8, 9 ,5, 4, 2, 3, 1, 15, 0, 10, 13, 255, 5]"
   ]
  },
  {
   "cell_type": "code",
   "execution_count": 2,
   "id": "0b524ea4-a851-4ebc-956e-ffdb0ca085a9",
   "metadata": {},
   "outputs": [],
   "source": [
    "def ten_max(a):\n",
    "    res = [float(\"-inf\")] * 10\n",
    "    for ele in a: # will be of O(n)\n",
    "        for i in range(len(res)):  # will not be longer than 10!\n",
    "            if ele >= res[i]:\n",
    "                for j in range(len(res)-1, i, -1):\n",
    "                    res[j] = res[j-1]\n",
    "                res[i] = ele\n",
    "                break\n",
    "    return res"
   ]
  },
  {
   "cell_type": "code",
   "execution_count": 3,
   "id": "c3d0f25d-bc75-442f-8cf9-ef2d5bc371ee",
   "metadata": {},
   "outputs": [
    {
     "data": {
      "text/plain": [
       "[255, 15, 13, 10, 10, 9, 8, 5, 5, 4]"
      ]
     },
     "execution_count": 3,
     "metadata": {},
     "output_type": "execute_result"
    }
   ],
   "source": [
    "ten_max(test)"
   ]
  },
  {
   "cell_type": "markdown",
   "id": "585e5298-0d5a-4f57-8938-3a7050ddd9fa",
   "metadata": {
    "jp-MarkdownHeadingCollapsed": true,
    "tags": []
   },
   "source": [
    "# Chapter 4"
   ]
  },
  {
   "cell_type": "markdown",
   "id": "7926693a-f07c-480a-a950-dc15fa238c34",
   "metadata": {
    "tags": []
   },
   "source": [
    "## R-4.1"
   ]
  },
  {
   "cell_type": "code",
   "execution_count": 32,
   "id": "c4d1be21-75db-4e98-9ce7-ccc3316810b4",
   "metadata": {},
   "outputs": [],
   "source": [
    "def find_max(S, start, stop):\n",
    "    if start == stop:\n",
    "        return S[start]\n",
    "    m = (start + stop) // 2\n",
    "    return max(find_max(S, start, m), find_max(S, m+1, stop))"
   ]
  },
  {
   "cell_type": "code",
   "execution_count": 35,
   "id": "139cb102-aad8-46eb-9593-8553119f532d",
   "metadata": {},
   "outputs": [
    {
     "data": {
      "text/plain": [
       "99999"
      ]
     },
     "execution_count": 35,
     "metadata": {},
     "output_type": "execute_result"
    }
   ],
   "source": [
    "test = [10, 8, 99999, 9 ,5, 4, 2, 3, 1, 15, 0, 10, 13, 255, 10000]\n",
    "find_max(test, 0, len(test)-1)"
   ]
  },
  {
   "cell_type": "markdown",
   "id": "a0cc27e8-81df-48a3-9cb3-7e73fef29be4",
   "metadata": {},
   "source": [
    "## R-4.6"
   ]
  },
  {
   "cell_type": "code",
   "execution_count": 39,
   "id": "ab9f0040-f995-4391-990c-3750e458d919",
   "metadata": {},
   "outputs": [],
   "source": [
    "def harmonic(n):\n",
    "    if n == 1:\n",
    "        return 1\n",
    "    return harmonic(n-1) + 1/n "
   ]
  },
  {
   "cell_type": "code",
   "execution_count": 44,
   "id": "ed92b281-f235-493d-8141-12e7d862566b",
   "metadata": {},
   "outputs": [
    {
     "data": {
      "text/plain": [
       "2.9289682539682538"
      ]
     },
     "execution_count": 44,
     "metadata": {},
     "output_type": "execute_result"
    }
   ],
   "source": [
    "harmonic(10)"
   ]
  },
  {
   "cell_type": "markdown",
   "id": "75a58f11-e675-45d5-bb9a-79b39a2558aa",
   "metadata": {},
   "source": [
    "## R-4.7"
   ]
  },
  {
   "cell_type": "code",
   "execution_count": 12,
   "id": "5b72222f-dcbf-4e9c-9698-c898b6be20ee",
   "metadata": {},
   "outputs": [],
   "source": [
    "def string_conv(s, start=0):\n",
    "    n = len(s)-1\n",
    "    if start == n:\n",
    "        return int(s[n])\n",
    "    cur_power = pow(10, n - start)\n",
    "    return  cur_power*int(s[start]) + string_conv(s, start+1)"
   ]
  },
  {
   "cell_type": "code",
   "execution_count": 13,
   "id": "e9ece295-e46c-4d9b-a7a6-e98949ebd800",
   "metadata": {},
   "outputs": [
    {
     "data": {
      "text/plain": [
       "12345"
      ]
     },
     "execution_count": 13,
     "metadata": {},
     "output_type": "execute_result"
    }
   ],
   "source": [
    "string_conv(\"12345\")"
   ]
  },
  {
   "cell_type": "markdown",
   "id": "e2e1876c-2707-4104-88c3-8d2b19753764",
   "metadata": {},
   "source": [
    "## R-4.8"
   ]
  },
  {
   "cell_type": "markdown",
   "id": "405695c2-4190-4c61-93c1-c08f198472db",
   "metadata": {},
   "source": [
    "The number of operations per call is O(n)"
   ]
  },
  {
   "cell_type": "markdown",
   "id": "22cbb0c1-6818-43b0-b30c-383d3caefab1",
   "metadata": {},
   "source": [
    "## C-4.9"
   ]
  },
  {
   "cell_type": "code",
   "execution_count": 41,
   "id": "425efb91-e14f-46c0-b70c-8240c7d1736e",
   "metadata": {},
   "outputs": [],
   "source": [
    "def get_min_max(S, start):\n",
    "    n = len(S) -1\n",
    "    if start == n:\n",
    "        return S[start], S[start]\n",
    "    \n",
    "    last_min, last_max = get_min_max(S, start+1)\n",
    "    \n",
    "    return min(S[start], last_min), max(S[start], last_max)"
   ]
  },
  {
   "cell_type": "code",
   "execution_count": 43,
   "id": "7ae8c003-20bb-410d-b805-3a69fe72ad1e",
   "metadata": {},
   "outputs": [
    {
     "data": {
      "text/plain": [
       "(-23, 99999)"
      ]
     },
     "execution_count": 43,
     "metadata": {},
     "output_type": "execute_result"
    }
   ],
   "source": [
    "test = [10, 8, 99999, 9 ,5, 4, 2, 3, 1, 15, 0, 10, 13, 255, 10000, -23, -1]\n",
    "get_min_max(test, 0)"
   ]
  },
  {
   "cell_type": "markdown",
   "id": "fe305573-2101-4a9d-b8ab-846835e0292f",
   "metadata": {},
   "source": [
    "## C-4.10"
   ]
  },
  {
   "cell_type": "code",
   "execution_count": 36,
   "id": "f2dfdf6b-81d4-46fd-976a-bfe09c7efcd5",
   "metadata": {},
   "outputs": [],
   "source": [
    "def int_log(n):\n",
    "    if n <= 1:\n",
    "        return 0\n",
    "    return int_log(n//2) + 1"
   ]
  },
  {
   "cell_type": "code",
   "execution_count": 40,
   "id": "c4cee7bb-1008-40a3-bb3c-240df8596fbb",
   "metadata": {},
   "outputs": [
    {
     "data": {
      "text/plain": [
       "6"
      ]
     },
     "execution_count": 40,
     "metadata": {},
     "output_type": "execute_result"
    }
   ],
   "source": [
    "int_log(106)"
   ]
  },
  {
   "cell_type": "markdown",
   "id": "24335f14-d7a3-41c7-af5e-a47c542a69d2",
   "metadata": {},
   "source": [
    "## C-4.11"
   ]
  },
  {
   "cell_type": "code",
   "execution_count": 55,
   "id": "97d5be36-b2ef-45f9-b060-587fa6bdef94",
   "metadata": {},
   "outputs": [],
   "source": [
    "# we can make it O(n^2) by using a range check or a list instead but we will use set to make it O(n)\n",
    "\n",
    "def is_all_distinct(S, p=0, visited=None):\n",
    "    if not visited:\n",
    "        visited = set()\n",
    "    n = len(S) - 1\n",
    "    \n",
    "    if S[p] in visited:\n",
    "        return False\n",
    "    elif p == n:\n",
    "        return True\n",
    "    \n",
    "    visited.add(S[p])\n",
    "    \n",
    "    return (True and ele_unique(S, p+1, visited))"
   ]
  },
  {
   "cell_type": "code",
   "execution_count": 56,
   "id": "2efe9bce-55d7-447f-9f78-69cefa3f0e94",
   "metadata": {},
   "outputs": [
    {
     "data": {
      "text/plain": [
       "True"
      ]
     },
     "execution_count": 56,
     "metadata": {},
     "output_type": "execute_result"
    }
   ],
   "source": [
    "is_all_distinct([1,2,66, 34, 55])"
   ]
  },
  {
   "cell_type": "markdown",
   "id": "51247840-5621-4e6b-b688-0d50cd93a89c",
   "metadata": {},
   "source": [
    "## C-4.12"
   ]
  },
  {
   "cell_type": "code",
   "execution_count": 59,
   "id": "03a1f572-7668-4575-8cc3-e2dbcb0a077d",
   "metadata": {},
   "outputs": [],
   "source": [
    "def recur_multiply(m, n):\n",
    "    if n == 0:\n",
    "        return 0\n",
    "    return recur_multiply(m, n-1) + m"
   ]
  },
  {
   "cell_type": "code",
   "execution_count": 60,
   "id": "467e915d-04f7-4810-9b06-575773923dba",
   "metadata": {},
   "outputs": [
    {
     "data": {
      "text/plain": [
       "20"
      ]
     },
     "execution_count": 60,
     "metadata": {},
     "output_type": "execute_result"
    }
   ],
   "source": [
    "recur_multiply(5, 4)"
   ]
  },
  {
   "cell_type": "markdown",
   "id": "b72ca9cb-e763-4b23-a4a2-1776f63dd23b",
   "metadata": {},
   "source": [
    "## C-4.14"
   ]
  },
  {
   "cell_type": "code",
   "execution_count": null,
   "id": "feddd379-0091-472f-951a-ce1acf3cac72",
   "metadata": {},
   "outputs": [],
   "source": []
  },
  {
   "cell_type": "markdown",
   "id": "57872c23-c06a-4428-92f2-8f449c8135e4",
   "metadata": {},
   "source": [
    "## C-4.15"
   ]
  },
  {
   "cell_type": "code",
   "execution_count": 1,
   "id": "b2cbeb2d-9719-400f-823b-cd407f03687b",
   "metadata": {},
   "outputs": [],
   "source": [
    "def get_subsets(S, start=0, all_subsets=[[]]):\n",
    "    if start == len(S):\n",
    "        return all_subsets\n",
    "    cur_subset = []\n",
    "    for i in range(start, len(S)):\n",
    "        cur_subset.append(S[i])\n",
    "        all_subsets.append(list(cur_subset))\n",
    "    return get_subsets(S, start+1, all_subsets)"
   ]
  },
  {
   "cell_type": "code",
   "execution_count": 2,
   "id": "6dc667f5-8d51-46ec-b3d5-7aba23028dec",
   "metadata": {
    "collapsed": true,
    "jupyter": {
     "outputs_hidden": true
    },
    "tags": []
   },
   "outputs": [
    {
     "data": {
      "text/plain": [
       "[[],\n",
       " [1],\n",
       " [1, 2],\n",
       " [1, 2, 3],\n",
       " [1, 2, 3, 4],\n",
       " [1, 2, 3, 4, 5],\n",
       " [1, 2, 3, 4, 5, 6],\n",
       " [1, 2, 3, 4, 5, 6, 7],\n",
       " [1, 2, 3, 4, 5, 6, 7, 8],\n",
       " [1, 2, 3, 4, 5, 6, 7, 8, 9],\n",
       " [1, 2, 3, 4, 5, 6, 7, 8, 9, 20],\n",
       " [2],\n",
       " [2, 3],\n",
       " [2, 3, 4],\n",
       " [2, 3, 4, 5],\n",
       " [2, 3, 4, 5, 6],\n",
       " [2, 3, 4, 5, 6, 7],\n",
       " [2, 3, 4, 5, 6, 7, 8],\n",
       " [2, 3, 4, 5, 6, 7, 8, 9],\n",
       " [2, 3, 4, 5, 6, 7, 8, 9, 20],\n",
       " [3],\n",
       " [3, 4],\n",
       " [3, 4, 5],\n",
       " [3, 4, 5, 6],\n",
       " [3, 4, 5, 6, 7],\n",
       " [3, 4, 5, 6, 7, 8],\n",
       " [3, 4, 5, 6, 7, 8, 9],\n",
       " [3, 4, 5, 6, 7, 8, 9, 20],\n",
       " [4],\n",
       " [4, 5],\n",
       " [4, 5, 6],\n",
       " [4, 5, 6, 7],\n",
       " [4, 5, 6, 7, 8],\n",
       " [4, 5, 6, 7, 8, 9],\n",
       " [4, 5, 6, 7, 8, 9, 20],\n",
       " [5],\n",
       " [5, 6],\n",
       " [5, 6, 7],\n",
       " [5, 6, 7, 8],\n",
       " [5, 6, 7, 8, 9],\n",
       " [5, 6, 7, 8, 9, 20],\n",
       " [6],\n",
       " [6, 7],\n",
       " [6, 7, 8],\n",
       " [6, 7, 8, 9],\n",
       " [6, 7, 8, 9, 20],\n",
       " [7],\n",
       " [7, 8],\n",
       " [7, 8, 9],\n",
       " [7, 8, 9, 20],\n",
       " [8],\n",
       " [8, 9],\n",
       " [8, 9, 20],\n",
       " [9],\n",
       " [9, 20],\n",
       " [20]]"
      ]
     },
     "execution_count": 2,
     "metadata": {},
     "output_type": "execute_result"
    }
   ],
   "source": [
    "temp = get_subsets([1, 2, 3, 4, 5, 6, 7, 8, 9, 20])\n",
    "temp"
   ]
  },
  {
   "cell_type": "code",
   "execution_count": null,
   "id": "be08f2b4-5118-4da7-9536-585077ff9c2f",
   "metadata": {},
   "outputs": [],
   "source": []
  },
  {
   "cell_type": "markdown",
   "id": "9417818c-de99-4e29-8590-fb20eec44160",
   "metadata": {},
   "source": [
    "## C-4.16"
   ]
  },
  {
   "cell_type": "code",
   "execution_count": 65,
   "id": "4b2067a6-e161-4505-985d-ff37c7edbb06",
   "metadata": {},
   "outputs": [],
   "source": [
    "def reverse_string(S, lo, hi):\n",
    "    if lo > hi:\n",
    "        return \"\"\n",
    "    return S[hi] + reverse_string(S, lo+1, hi-1) + S[lo]"
   ]
  },
  {
   "cell_type": "code",
   "execution_count": 67,
   "id": "3ba32774-c47d-491b-8241-f5781a2bda97",
   "metadata": {},
   "outputs": [
    {
     "data": {
      "text/plain": [
       "'snap&&stop'"
      ]
     },
     "execution_count": 67,
     "metadata": {},
     "output_type": "execute_result"
    }
   ],
   "source": [
    "test_str = \"polo&pan\"\n",
    "test_str = \"pots&pans\"\n",
    "reverse_string(test_str, 0, len(test_str)-1)"
   ]
  },
  {
   "cell_type": "markdown",
   "id": "d24c44f2-581b-45ef-8051-5b46ec2d9f25",
   "metadata": {},
   "source": [
    "## C-4.17"
   ]
  },
  {
   "cell_type": "code",
   "execution_count": 60,
   "id": "c34fa830-b673-461a-8a93-30c2a32bb3d9",
   "metadata": {},
   "outputs": [],
   "source": [
    "def is_palindrome(S, hi, lo):\n",
    "    if hi > lo:\n",
    "        return True\n",
    "    if S[hi] != S[lo]:\n",
    "        return False\n",
    "    return is_palyndrome(S, hi + 1, lo - 1)"
   ]
  },
  {
   "cell_type": "code",
   "execution_count": 61,
   "id": "5ad0b61e-1515-4fb7-9ee3-87753dbf425b",
   "metadata": {},
   "outputs": [
    {
     "data": {
      "text/plain": [
       "True"
      ]
     },
     "execution_count": 61,
     "metadata": {},
     "output_type": "execute_result"
    }
   ],
   "source": [
    "S = \"loaiaol\"\n",
    "is_palindrome(S, 0, len(S)-1)"
   ]
  },
  {
   "cell_type": "markdown",
   "id": "77fe6f2c-b8f6-455c-a061-a82bb6ee11d3",
   "metadata": {},
   "source": [
    "## C-4.18"
   ]
  },
  {
   "cell_type": "code",
   "execution_count": 47,
   "id": "6da6bb28-d6c9-4766-8e39-633f0f5b2ab3",
   "metadata": {},
   "outputs": [],
   "source": [
    "def is_more_vowls(S, p=0, vc=0, cc=0):\n",
    "    if p == len(S):\n",
    "        return (vc > cc)\n",
    "    if S[p] in ['a', 'e', 'i', 'o', 'u']:\n",
    "        return is_more_vowls(S, p+1, vc+1, cc)\n",
    "    return is_more_vowls(S, p+1, vc, cc+1)"
   ]
  },
  {
   "cell_type": "code",
   "execution_count": 49,
   "id": "1f1d85d5-9647-4fbc-87a4-b40b0ace6f2f",
   "metadata": {},
   "outputs": [
    {
     "data": {
      "text/plain": [
       "False"
      ]
     },
     "execution_count": 49,
     "metadata": {},
     "output_type": "execute_result"
    }
   ],
   "source": [
    "is_more_vowls(\"aeiousssssssss\")"
   ]
  },
  {
   "cell_type": "markdown",
   "id": "5a2058f6-5bc6-4ff1-8505-925e48fb4c4d",
   "metadata": {},
   "source": [
    "## C-4.19"
   ]
  },
  {
   "cell_type": "code",
   "execution_count": 38,
   "id": "f76fec95-2397-4f58-9e87-d4c947801755",
   "metadata": {},
   "outputs": [],
   "source": [
    "def is_even(ele):\n",
    "    if ele % 2 == 0:\n",
    "        return True\n",
    "    return False\n",
    "    \n",
    "    \n",
    "def seperate_even_odd(S, lo, hi):\n",
    "    if lo > hi:\n",
    "        return S\n",
    "    print(\"------\")\n",
    "    print(lo, hi)\n",
    "    print(S[lo], S[hi])\n",
    "    if not is_even(S[lo]) and is_even(S[hi]):\n",
    "        print(\"swap\")\n",
    "        S[hi], S[lo] = S[lo], S[hi]\n",
    "        return seperate_even_odd(S, lo+1, hi-1)\n",
    "    if not is_even(S[lo]):\n",
    "        return seperate_even_odd(S, lo, hi-1)\n",
    "    if is_even(S[hi]):\n",
    "        return seperate_even_odd(S, lo+1, hi)\n",
    "    return seperate_even_odd(S, lo + 1, hi - 1)"
   ]
  },
  {
   "cell_type": "code",
   "execution_count": 41,
   "id": "0189595d-7180-41f5-a3c5-99b76c400a48",
   "metadata": {
    "collapsed": true,
    "jupyter": {
     "outputs_hidden": true
    },
    "tags": []
   },
   "outputs": [
    {
     "name": "stdout",
     "output_type": "stream",
     "text": [
      "------\n",
      "0 15\n",
      "1 2\n",
      "swap\n",
      "------\n",
      "1 14\n",
      "1 1\n",
      "------\n",
      "1 13\n",
      "1 1\n",
      "------\n",
      "1 12\n",
      "1 2\n",
      "swap\n",
      "------\n",
      "2 11\n",
      "1 2\n",
      "swap\n",
      "------\n",
      "3 10\n",
      "1 2\n",
      "swap\n",
      "------\n",
      "4 9\n",
      "1 2\n",
      "swap\n",
      "------\n",
      "5 8\n",
      "1 2\n",
      "swap\n",
      "------\n",
      "6 7\n",
      "1 1\n",
      "------\n",
      "6 6\n",
      "1 1\n"
     ]
    },
    {
     "data": {
      "text/plain": [
       "[2, 2, 2, 2, 2, 2, 1, 1, 1, 1, 1, 1, 1, 1, 1, 1]"
      ]
     },
     "execution_count": 41,
     "metadata": {},
     "output_type": "execute_result"
    }
   ],
   "source": [
    "S = [1, 1, 1, 1, 1, 1, 1, 1, 2, 2, 2, 2, 2, 1, 1, 2]\n",
    "seperate_even_odd(S, 0, len(S)-1)"
   ]
  },
  {
   "cell_type": "markdown",
   "id": "63ae8c21-113a-44c7-9fe5-a8bc7bddf6d3",
   "metadata": {},
   "source": [
    "## C-4.20"
   ]
  },
  {
   "cell_type": "code",
   "execution_count": 52,
   "id": "1f0b8b36-0f0a-45a7-acd9-c0982461f96e",
   "metadata": {},
   "outputs": [],
   "source": [
    "def is_right(ele, k):\n",
    "    if ele >= k:\n",
    "        return False\n",
    "    return True\n",
    "\n",
    "\n",
    "def seperate_by_k(S, lo, hi, k):\n",
    "    if lo > hi:\n",
    "        return S\n",
    "    print(\"------\")\n",
    "    print(lo, hi)\n",
    "    print(S[lo], S[hi])\n",
    "    if not is_right(S[lo], k) and is_right(S[hi], k):\n",
    "        print(\"swap\")\n",
    "        S[hi], S[lo] = S[lo], S[hi]\n",
    "        return seperate_by_k(S, lo+1, hi-1, k)\n",
    "    if not is_right(S[lo], k):\n",
    "        return seperate_by_k(S, lo, hi-1, k)\n",
    "    if is_right(S[hi], k):\n",
    "        return seperate_by_k(S, lo+1, hi, k)\n",
    "    return seperate_by_k(S, lo + 1, hi - 1, k)"
   ]
  },
  {
   "cell_type": "code",
   "execution_count": 53,
   "id": "660eecc7-1cbb-4837-9e48-48bcac824c55",
   "metadata": {
    "collapsed": true,
    "jupyter": {
     "outputs_hidden": true
    },
    "tags": []
   },
   "outputs": [
    {
     "name": "stdout",
     "output_type": "stream",
     "text": [
      "------\n",
      "0 10\n",
      "1 90\n",
      "------\n",
      "1 9\n",
      "8 8\n",
      "------\n",
      "1 8\n",
      "8 3\n",
      "swap\n",
      "------\n",
      "2 7\n",
      "9 2\n",
      "swap\n",
      "------\n",
      "3 6\n",
      "10 1\n",
      "swap\n",
      "------\n",
      "4 5\n",
      "3 76\n"
     ]
    },
    {
     "data": {
      "text/plain": [
       "[1, 3, 2, 1, 3, 76, 10, 9, 8, 8, 90]"
      ]
     },
     "execution_count": 53,
     "metadata": {},
     "output_type": "execute_result"
    }
   ],
   "source": [
    "S = [1, 8, 9, 10, 3, 76, 1, 2, 3, 8, 90]\n",
    "seperate_by_k(S, 0, len(S)-1, 7)"
   ]
  },
  {
   "cell_type": "markdown",
   "id": "ca3df593-92e4-4ccb-a520-c4f49efebae9",
   "metadata": {},
   "source": [
    "## S-4.21"
   ]
  },
  {
   "cell_type": "code",
   "execution_count": null,
   "id": "32cdc682-269c-4594-9305-cb625586984e",
   "metadata": {},
   "outputs": [],
   "source": [
    "def rec_two_sum(S, t, p=0, visited = set()):\n",
    "    if p == len(S):\n",
    "        return False\n",
    "    if t-S[p] in visited:\n",
    "        return True\n",
    "    visited.add(S[p])\n",
    "    return rec_two_sum(S, t, p+1, visited)\n",
    "    "
   ]
  },
  {
   "cell_type": "code",
   "execution_count": 66,
   "id": "2e28e99c-fa42-4109-b274-556d4afba2a4",
   "metadata": {},
   "outputs": [
    {
     "data": {
      "text/plain": [
       "False"
      ]
     },
     "execution_count": 66,
     "metadata": {},
     "output_type": "execute_result"
    }
   ],
   "source": [
    "rec_two_sum([1,2,3], 6)"
   ]
  },
  {
   "cell_type": "markdown",
   "id": "a48bfb3b-77c6-4565-be2d-cc10327784d0",
   "metadata": {},
   "source": [
    "## S-4.22"
   ]
  },
  {
   "cell_type": "markdown",
   "id": "d91e1985-d981-473d-8219-2acc654c6db8",
   "metadata": {},
   "source": [
    "# Chapter 5"
   ]
  },
  {
   "cell_type": "code",
   "execution_count": null,
   "id": "a67908aa-a43d-4eaf-8d04-6c6167f8b6c2",
   "metadata": {},
   "outputs": [],
   "source": []
  }
 ],
 "metadata": {
  "kernelspec": {
   "display_name": "Python 3 (ipykernel)",
   "language": "python",
   "name": "python3"
  },
  "language_info": {
   "codemirror_mode": {
    "name": "ipython",
    "version": 3
   },
   "file_extension": ".py",
   "mimetype": "text/x-python",
   "name": "python",
   "nbconvert_exporter": "python",
   "pygments_lexer": "ipython3",
   "version": "3.10.7"
  }
 },
 "nbformat": 4,
 "nbformat_minor": 5
}
