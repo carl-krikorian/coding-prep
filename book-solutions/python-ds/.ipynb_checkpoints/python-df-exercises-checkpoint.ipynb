{
 "cells": [
  {
   "cell_type": "code",
   "execution_count": 20,
   "id": "6896121a-318e-4be0-8746-a6b011aa0c65",
   "metadata": {},
   "outputs": [],
   "source": [
    "# https://github.com/aminuolawale/Data-Structures-and-Algorithms-in-Python-exercises"
   ]
  },
  {
   "cell_type": "markdown",
   "id": "27159c82-f9f1-4643-afd5-f19aa0bd49a9",
   "metadata": {
    "tags": []
   },
   "source": [
    "# Chapter 1"
   ]
  },
  {
   "cell_type": "markdown",
   "id": "591805ac-5e21-455e-a304-61dfee317f63",
   "metadata": {},
   "source": [
    "R-1.1"
   ]
  },
  {
   "cell_type": "code",
   "execution_count": 21,
   "id": "cf18afdf-6805-4e99-92c4-0687dfb4f5a0",
   "metadata": {},
   "outputs": [],
   "source": [
    "def is_multiple(n, m):\n",
    "    if n % m == 0:\n",
    "        return True\n",
    "    return False\n"
   ]
  },
  {
   "cell_type": "code",
   "execution_count": 22,
   "id": "d4690446-8aaf-4cc0-9edb-d89ad97126d2",
   "metadata": {},
   "outputs": [
    {
     "data": {
      "text/plain": [
       "True"
      ]
     },
     "execution_count": 22,
     "metadata": {},
     "output_type": "execute_result"
    }
   ],
   "source": [
    "is_multiple(16, 8)"
   ]
  },
  {
   "cell_type": "markdown",
   "id": "7ea0e21f-6318-48d2-90fd-58fd53bcd754",
   "metadata": {},
   "source": [
    "R-1.2"
   ]
  },
  {
   "cell_type": "code",
   "execution_count": 23,
   "id": "221cfd83-2084-4a31-8c18-091b14561f0b",
   "metadata": {},
   "outputs": [],
   "source": [
    "def is_even(k):\n",
    "    k = str(k)\n",
    "    if k[-1] in [\"0\", \"2\", \"4\", \"6\", \"8\"]:\n",
    "        return True\n",
    "    return False\n",
    "\n",
    "#\n",
    "\n",
    "# def is_even(k):\n",
    "#     if k == 0 :\n",
    "#         return True\n",
    "#     elif k == 1:\n",
    "#         return False\n",
    "#     else:\n",
    "#         return is_even(k-2)\n",
    "\n",
    "\n",
    "# print(is_even(601))"
   ]
  },
  {
   "cell_type": "code",
   "execution_count": 24,
   "id": "678b69fd-f7e0-45fd-92c4-8ce4d3fe8f21",
   "metadata": {},
   "outputs": [
    {
     "data": {
      "text/plain": [
       "True"
      ]
     },
     "execution_count": 24,
     "metadata": {},
     "output_type": "execute_result"
    }
   ],
   "source": [
    "is_even(30)"
   ]
  },
  {
   "cell_type": "markdown",
   "id": "50c55075-0e30-4344-a6da-4e38abc226fd",
   "metadata": {},
   "source": [
    "R-1.3 "
   ]
  },
  {
   "cell_type": "code",
   "execution_count": 28,
   "id": "b67c4b28-7d59-4cb3-ba27-e73c8e67cc13",
   "metadata": {},
   "outputs": [],
   "source": [
    "def minmax(data):\n",
    "    minimum = float(\"inf\")\n",
    "    maximum = float(\"-inf\")\n",
    "    for cur in data:\n",
    "        if cur < minimum:\n",
    "            minimum = cur\n",
    "        if cur > maximum:\n",
    "            maximum = cur\n",
    "    return minimum, maximum"
   ]
  },
  {
   "cell_type": "code",
   "execution_count": 31,
   "id": "e9fe9821-102d-4972-8696-cbd1f9b92360",
   "metadata": {},
   "outputs": [
    {
     "data": {
      "text/plain": [
       "(-12, 823)"
      ]
     },
     "execution_count": 31,
     "metadata": {},
     "output_type": "execute_result"
    }
   ],
   "source": [
    "minmax((1, -12, 2, 3, 823, 4))"
   ]
  },
  {
   "cell_type": "markdown",
   "id": "cd2993ac-dd54-4e1b-b9a3-ba6730f7e26e",
   "metadata": {},
   "source": [
    "R.1-4"
   ]
  },
  {
   "cell_type": "code",
   "execution_count": 37,
   "id": "9659ae8b-9620-429b-8f12-a0fd382b5ce2",
   "metadata": {},
   "outputs": [],
   "source": [
    "def sum_squares_up_to(n):\n",
    "    res = 0\n",
    "    for i in range(1, n):\n",
    "        res += i*i\n",
    "    return res"
   ]
  },
  {
   "cell_type": "code",
   "execution_count": 38,
   "id": "ae8f19eb-8345-450a-9e5b-c7a4d5b3239c",
   "metadata": {},
   "outputs": [
    {
     "data": {
      "text/plain": [
       "285"
      ]
     },
     "execution_count": 38,
     "metadata": {},
     "output_type": "execute_result"
    }
   ],
   "source": [
    "sum_squares_up_to(10)"
   ]
  },
  {
   "cell_type": "markdown",
   "id": "802222d3-f4b6-4092-8197-4c29308d63f1",
   "metadata": {},
   "source": [
    "R.1-5"
   ]
  },
  {
   "cell_type": "code",
   "execution_count": 39,
   "id": "315effd5-94fb-4c0d-9412-a028393c3f7e",
   "metadata": {},
   "outputs": [],
   "source": [
    "def ez_sum_squares_up_to(n):\n",
    "    return sum(i*i for i in range(1, n))"
   ]
  },
  {
   "cell_type": "code",
   "execution_count": 40,
   "id": "7e1f17e7-e737-455a-a5b4-eb233872169e",
   "metadata": {},
   "outputs": [
    {
     "data": {
      "text/plain": [
       "285"
      ]
     },
     "execution_count": 40,
     "metadata": {},
     "output_type": "execute_result"
    }
   ],
   "source": [
    "r14(10)"
   ]
  },
  {
   "cell_type": "markdown",
   "id": "39f48088-3bb5-4d34-ae89-6afe470bc88c",
   "metadata": {},
   "source": [
    "R.1-6 / R.1-7"
   ]
  },
  {
   "cell_type": "code",
   "execution_count": 48,
   "id": "a408e1ca-c2ce-48fe-b9d4-5c575844dc7f",
   "metadata": {},
   "outputs": [],
   "source": [
    "def ez_odd_sum_squares_up_to(n):\n",
    "    return sum(i*i if (i%2 == 1) else 0 for i in range(1,n))"
   ]
  },
  {
   "cell_type": "code",
   "execution_count": 49,
   "id": "4310d16f-2b3d-43b6-a4d0-21f19c480457",
   "metadata": {},
   "outputs": [
    {
     "data": {
      "text/plain": [
       "165"
      ]
     },
     "execution_count": 49,
     "metadata": {},
     "output_type": "execute_result"
    }
   ],
   "source": [
    "ez_odd_sum_squares_up_to(10)"
   ]
  },
  {
   "cell_type": "markdown",
   "id": "3704771d-47f6-44d3-9017-e193e8199804",
   "metadata": {},
   "source": [
    "R.1-8"
   ]
  },
  {
   "cell_type": "code",
   "execution_count": 50,
   "id": "997dfe29-a137-49f9-92a8-07eb65274d9c",
   "metadata": {},
   "outputs": [],
   "source": [
    "# j= n+k"
   ]
  },
  {
   "cell_type": "markdown",
   "id": "6400989f-9fa7-45c1-b483-c8fc72088f7b",
   "metadata": {},
   "source": [
    "R-1.9"
   ]
  },
  {
   "cell_type": "code",
   "execution_count": 54,
   "id": "b1d3d2bc-31d1-47a9-a790-bdac3cb953e6",
   "metadata": {},
   "outputs": [
    {
     "data": {
      "text/plain": [
       "[50, 60, 70, 80]"
      ]
     },
     "execution_count": 54,
     "metadata": {},
     "output_type": "execute_result"
    }
   ],
   "source": [
    "[i for i in range(50, 90, 10)]"
   ]
  },
  {
   "cell_type": "markdown",
   "id": "39d0eadc-8fc9-488b-9bd8-e5fb66db4a9c",
   "metadata": {},
   "source": [
    "R-1.10"
   ]
  },
  {
   "cell_type": "code",
   "execution_count": 53,
   "id": "9f5b721b-5a78-4554-b795-f5a1b503fc64",
   "metadata": {},
   "outputs": [
    {
     "data": {
      "text/plain": [
       "[8, 6, 4, 2, 0, -2, -4, -6, -8]"
      ]
     },
     "execution_count": 53,
     "metadata": {},
     "output_type": "execute_result"
    }
   ],
   "source": [
    "[i for i in range(8, -9, -2)]"
   ]
  },
  {
   "cell_type": "markdown",
   "id": "b169d0b7-f152-4008-9d2d-ef121154baa0",
   "metadata": {},
   "source": [
    "R-1.11"
   ]
  },
  {
   "cell_type": "code",
   "execution_count": 62,
   "id": "520b87aa-e881-4ccf-8e93-b557007cad98",
   "metadata": {},
   "outputs": [
    {
     "data": {
      "text/plain": [
       "[1, 2, 4, 8, 16, 32, 64, 128, 256]"
      ]
     },
     "execution_count": 62,
     "metadata": {},
     "output_type": "execute_result"
    }
   ],
   "source": [
    "[pow(2,i) for i in range(9)]"
   ]
  },
  {
   "cell_type": "markdown",
   "id": "bf9d582f-4f87-4114-a590-217cf0752495",
   "metadata": {},
   "source": [
    "R-1.11"
   ]
  },
  {
   "cell_type": "code",
   "execution_count": 78,
   "id": "e0591d0e-ae29-432e-bad9-cbd17ebdfb08",
   "metadata": {},
   "outputs": [],
   "source": [
    "from random import randrange\n",
    "\n",
    "def custom_choice(data):\n",
    "    return data[randrange(len(data))]"
   ]
  },
  {
   "cell_type": "code",
   "execution_count": 95,
   "id": "5e2a743f-8018-4a89-9ed6-6cec698f2b9c",
   "metadata": {},
   "outputs": [
    {
     "data": {
      "text/plain": [
       "34"
      ]
     },
     "execution_count": 95,
     "metadata": {},
     "output_type": "execute_result"
    }
   ],
   "source": [
    "custom_choice([1,2,34,5,6])"
   ]
  },
  {
   "cell_type": "markdown",
   "id": "e61a6c61-5279-4176-9aaf-3aa741afbb06",
   "metadata": {},
   "source": [
    "C-1.13"
   ]
  },
  {
   "cell_type": "code",
   "execution_count": 99,
   "id": "29f73642-527c-45d2-a8de-3d5966533b51",
   "metadata": {},
   "outputs": [],
   "source": [
    "# comparison with reverse\n",
    "def custom_reverse(data):\n",
    "    # return data[::-1]\n",
    "    return [data[i] for i in range(len(data)-1, -1, -1)]"
   ]
  },
  {
   "cell_type": "code",
   "execution_count": 100,
   "id": "6ff6c48f-572e-4c80-be9a-a7380128af67",
   "metadata": {},
   "outputs": [
    {
     "data": {
      "text/plain": [
       "[5, 4, 3, 2, 1]"
      ]
     },
     "execution_count": 100,
     "metadata": {},
     "output_type": "execute_result"
    }
   ],
   "source": [
    "custom_reverse([1, 2 ,3 ,4 ,5])"
   ]
  },
  {
   "cell_type": "markdown",
   "id": "575e7e7b-0862-40ad-bd85-ab6d1f500c74",
   "metadata": {},
   "source": [
    "C-1.14"
   ]
  },
  {
   "cell_type": "code",
   "execution_count": 102,
   "id": "45980d9c-5b86-4ef4-a46e-e73283c35db3",
   "metadata": {},
   "outputs": [],
   "source": [
    "# distinct odd pair\n",
    "def distinct_odd_pair(data):\n",
    "    data = set(data)\n",
    "    odd_counter = 0\n",
    "    for ele in data:\n",
    "        if ele % 2 == 1:\n",
    "            odd_counter += 1\n",
    "        if odd_counter == 2:\n",
    "            return True\n",
    "    return False"
   ]
  },
  {
   "cell_type": "code",
   "execution_count": 107,
   "id": "7e3506ce-90f4-4f79-89ab-c9edfb4351ff",
   "metadata": {},
   "outputs": [],
   "source": [
    "assert(distinct_odd_pair([1, 2, 4, 5, 9]) == True)\n",
    "assert(distinct_odd_pair([4, 2, 4, 5, 6]) == False)"
   ]
  },
  {
   "cell_type": "markdown",
   "id": "e0e4b537-e46e-4bcf-b2f9-ab68710d35ae",
   "metadata": {},
   "source": [
    "C-1.15"
   ]
  },
  {
   "cell_type": "code",
   "execution_count": 108,
   "id": "21200438-6e52-43ad-996f-9f95ec34e8d3",
   "metadata": {},
   "outputs": [],
   "source": [
    "def all_distinct(data):\n",
    "    visited = set()\n",
    "    for ele in data:\n",
    "        if ele not in visited:\n",
    "            visited.add(ele)\n",
    "        else:\n",
    "            return False\n",
    "    return True"
   ]
  },
  {
   "cell_type": "code",
   "execution_count": 112,
   "id": "01b28c5c-83f9-43e6-acdd-c34dbe205658",
   "metadata": {},
   "outputs": [
    {
     "data": {
      "text/plain": [
       "False"
      ]
     },
     "execution_count": 112,
     "metadata": {},
     "output_type": "execute_result"
    }
   ],
   "source": [
    "all_distinct([1, 2, 3, 4 ,5, 6, 6])"
   ]
  },
  {
   "cell_type": "markdown",
   "id": "2b7ebebb-d632-430b-884c-c244386581b6",
   "metadata": {},
   "source": [
    "C-1.16"
   ]
  },
  {
   "cell_type": "code",
   "execution_count": null,
   "id": "918c121c-8cae-4609-b287-02e0a75fc0af",
   "metadata": {},
   "outputs": [],
   "source": []
  }
 ],
 "metadata": {
  "kernelspec": {
   "display_name": "Python 3 (ipykernel)",
   "language": "python",
   "name": "python3"
  },
  "language_info": {
   "codemirror_mode": {
    "name": "ipython",
    "version": 3
   },
   "file_extension": ".py",
   "mimetype": "text/x-python",
   "name": "python",
   "nbconvert_exporter": "python",
   "pygments_lexer": "ipython3",
   "version": "3.10.6"
  }
 },
 "nbformat": 4,
 "nbformat_minor": 5
}
