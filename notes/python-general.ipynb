{
 "cells": [
  {
   "cell_type": "code",
   "execution_count": 1,
   "id": "a6ff604f-ef8c-4b60-ac24-fe903e45d871",
   "metadata": {},
   "outputs": [],
   "source": [
    "l = [1, 23, 454, 2, 767, 32, 12]"
   ]
  },
  {
   "cell_type": "code",
   "execution_count": 3,
   "id": "2e3cc965-1b40-41f5-b76e-eb866b8e8fd8",
   "metadata": {},
   "outputs": [],
   "source": [
    "def func(l):\n",
    "    for i in l:\n",
    "        yield i"
   ]
  },
  {
   "cell_type": "code",
   "execution_count": 5,
   "id": "785169cf-a675-44c5-a55a-6b1426d6e51c",
   "metadata": {},
   "outputs": [
    {
     "name": "stdout",
     "output_type": "stream",
     "text": [
      "<generator object func at 0x7f58805625f0>\n"
     ]
    }
   ],
   "source": [
    "print(func(l))"
   ]
  },
  {
   "cell_type": "code",
   "execution_count": null,
   "id": "26c70b4d-dcff-437b-90df-e029a5e39e2e",
   "metadata": {},
   "outputs": [],
   "source": []
  }
 ],
 "metadata": {
  "kernelspec": {
   "display_name": "Python 3 (ipykernel)",
   "language": "python",
   "name": "python3"
  },
  "language_info": {
   "codemirror_mode": {
    "name": "ipython",
    "version": 3
   },
   "file_extension": ".py",
   "mimetype": "text/x-python",
   "name": "python",
   "nbconvert_exporter": "python",
   "pygments_lexer": "ipython3",
   "version": "3.9.13"
  }
 },
 "nbformat": 4,
 "nbformat_minor": 5
}
