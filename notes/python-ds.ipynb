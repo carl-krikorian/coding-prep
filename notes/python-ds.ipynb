{
 "cells": [
  {
   "cell_type": "markdown",
   "id": "791822a0-5fc5-4e17-976c-184ae3648546",
   "metadata": {
    "jp-MarkdownHeadingCollapsed": true,
    "tags": []
   },
   "source": [
    "# Chapter 3: Algorithm Analysis"
   ]
  },
  {
   "cell_type": "markdown",
   "id": "487c32b8-e860-42dc-b79d-7e325d5ddeb9",
   "metadata": {
    "tags": []
   },
   "source": [
    "## 3.2 The seven functions"
   ]
  },
  {
   "cell_type": "markdown",
   "id": "dff2242d-3f16-4431-93d5-38cb144c53ba",
   "metadata": {
    "jp-MarkdownHeadingCollapsed": true,
    "tags": []
   },
   "source": [
    "### Notable Functions"
   ]
  },
  {
   "cell_type": "markdown",
   "id": "b93d7778-4cfc-430e-b698-45a74ce81099",
   "metadata": {
    "tags": []
   },
   "source": [
    "1. constant f(n) = 1\n",
    "2. logarithmic\n",
    "    * log(ac) = log a + log c\n",
    "    * log(a/c) = log a - log c\n",
    "    * log a^c = c log a\n",
    "    * logb a = logd a / logd b\n",
    "    * b^(logd a) = a^(logd b)\n",
    "3. linear f(n) = n\n",
    "4. f(n) = nlog n\n",
    "5. quadratic n^2\n",
    "6. cubic n^3 and other polynomial f(n) = a0 + a1n + a2n^2 ... adn^d\n",
    "7. exponential f(n)=b^n\n",
    "    * (b^a)^c = b^(ac)\n",
    "    * b^a * b^c = b^(a+c)\n",
    "    * b^a / b^c = b^(a-c)"
   ]
  },
  {
   "cell_type": "markdown",
   "id": "080877bc-d325-4e26-85f7-30899f182933",
   "metadata": {
    "jp-MarkdownHeadingCollapsed": true,
    "tags": []
   },
   "source": [
    "### Quadratic and Nested loops"
   ]
  },
  {
   "cell_type": "markdown",
   "id": "acd5cdb1-40d9-4697-bad3-92be75eb6b40",
   "metadata": {
    "tags": []
   },
   "source": [
    "Remember that in case of nested loops, the operation will look something like this:\n",
    "\n",
    "```\n",
    "for i in l1:\n",
    "    for j in l1:\n",
    "        operation with i and j\n",
    "```\n",
    "\n",
    "We notice that the operations become depending on n the length of the nested loops and number elements:<br />\n",
    "n + n-1...1\n",
    "\n",
    "The number of operations then follows this formula for sequences:<br />\n",
    "n(n+1)/2\n",
    "hence n^2 squared!!\n",
    "\n",
    "![pythagoras](../images/sequence-sum.png \"visual explanation\")"
   ]
  },
  {
   "cell_type": "markdown",
   "id": "e9e4c9c0-e47a-4d79-9132-67a5040e1556",
   "metadata": {
    "jp-MarkdownHeadingCollapsed": true,
    "tags": []
   },
   "source": [
    "### Exponential function"
   ]
  },
  {
   "cell_type": "markdown",
   "id": "cb5f2507-e2eb-444d-b136-ea44293fd41e",
   "metadata": {},
   "source": [
    "Keep this in mind for exponential functions <br />\n",
    "![Geometric sum image](../images/geometric-sum.png \"Geometric sum formula\")"
   ]
  },
  {
   "cell_type": "markdown",
   "id": "fdf86737-ad49-4303-9ec1-91ac6aac41d6",
   "metadata": {
    "tags": []
   },
   "source": [
    "### Python keep in minds"
   ]
  },
  {
   "cell_type": "markdown",
   "id": "7c3baac5-bb8a-4918-9a2a-a65a633e84b0",
   "metadata": {},
   "source": [
    "keep in mind that in python:\n",
    "* For python lists: len(data) and data[j]= O(1)"
   ]
  },
  {
   "cell_type": "code",
   "execution_count": 4,
   "id": "b747d836-c8c2-4b1f-86d8-e4736c85e782",
   "metadata": {},
   "outputs": [],
   "source": [
    "def find_max(data):\n",
    "    biggest = data[0]\n",
    "    for val in data:\n",
    "        if val > biggest:\n",
    "            biggest = val\n",
    "    return biggest"
   ]
  },
  {
   "cell_type": "markdown",
   "id": "94b7a837-0734-4546-b8cd-37bcca9df48d",
   "metadata": {},
   "source": [
    "How many times do we update the value of max?\n",
    "assuming uniqueness, the probability that the jth element is the largest of the first j elements is 1/j, the number of expected updates is the harmoic number which is O(logn)"
   ]
  },
  {
   "cell_type": "markdown",
   "id": "cf3aead2-2f1d-41d8-b713-c9a3ee3053d2",
   "metadata": {
    "tags": []
   },
   "source": [
    "### Prefix averages"
   ]
  },
  {
   "cell_type": "markdown",
   "id": "fbe42b34-c526-47f0-9552-450a91b68662",
   "metadata": {},
   "source": [
    "prefix_averages is computing the average of a sequence up to j"
   ]
  },
  {
   "cell_type": "code",
   "execution_count": 6,
   "id": "619bb770-0b7c-4842-b4aa-7586ce5fcb02",
   "metadata": {},
   "outputs": [],
   "source": [
    "# very bad, why are there two loops?\n",
    "# the total is recomputed every single time\n",
    "def prefix_average1(S):\n",
    "    n = len(S)\n",
    "    A = [0] * n\n",
    "    for i in range(n):\n",
    "        total = 0\n",
    "        for i in range(j+1):\n",
    "            total += S[i]\n",
    "        A[j] = total/(j+1)\n",
    "    return A"
   ]
  },
  {
   "cell_type": "code",
   "execution_count": 14,
   "id": "87291b42-0fc7-45a4-bb8a-353a87874456",
   "metadata": {},
   "outputs": [],
   "source": [
    "# slices have the same issue as before as the sum() is a function call that takes O(n)\n",
    "# Within the loop this also means that for each O(n), we are computing O(n) operation hence\n",
    "# O(n^2)\n",
    "def prefix_average2(S):\n",
    "    n = len(S)\n",
    "    A = [0] * n\n",
    "    for j in range(n):\n",
    "        A[j] = sum(S[0: j+1])/(j+1)\n",
    "    return A"
   ]
  },
  {
   "cell_type": "code",
   "execution_count": 21,
   "id": "d976d1f9-8836-4c28-9b6c-3dc4ce90b755",
   "metadata": {},
   "outputs": [],
   "source": [
    "# we can compute things this way the most efficiently as all operations are O(1)\n",
    "# this leads to O(n)\n",
    "def prefix_average3(S):\n",
    "    n = len(S)\n",
    "    A = [0] * n\n",
    "    total = 0\n",
    "    for i in range(n):\n",
    "        total += S[i]\n",
    "        A[i] = total / (i+1)\n",
    "    return A"
   ]
  },
  {
   "cell_type": "code",
   "execution_count": 22,
   "id": "c950d2cd-fb49-4336-b6dd-2e7ffafa745d",
   "metadata": {},
   "outputs": [],
   "source": [
    "S = [1, 2, 3, 4, 5, 6]\n",
    "assert(prefix_average2(S) == prefix_average3(S))"
   ]
  },
  {
   "cell_type": "markdown",
   "id": "a6dca83f-315f-4b7e-a36b-bee0f0f9daa3",
   "metadata": {
    "jp-MarkdownHeadingCollapsed": true,
    "tags": []
   },
   "source": [
    "# Chapter 4: Recursive algorithms"
   ]
  },
  {
   "cell_type": "markdown",
   "id": "5ea7a756-9092-47fb-995e-01d1248b6dce",
   "metadata": {
    "jp-MarkdownHeadingCollapsed": true,
    "tags": []
   },
   "source": [
    "## Examples"
   ]
  },
  {
   "cell_type": "markdown",
   "id": "28d543a7-c539-4a19-9414-50a9fdc0db47",
   "metadata": {
    "jp-MarkdownHeadingCollapsed": true,
    "tags": []
   },
   "source": [
    "### Facotrials"
   ]
  },
  {
   "cell_type": "code",
   "execution_count": 43,
   "id": "4978d1a3-269d-404b-ae19-d75f4f634d4b",
   "metadata": {},
   "outputs": [],
   "source": [
    "def factorial(n):\n",
    "    if n == 0:\n",
    "        return 1\n",
    "    return factorial(n-1)*n"
   ]
  },
  {
   "cell_type": "code",
   "execution_count": 47,
   "id": "6299e03b-bbaa-4c1b-9405-af7b4affbac9",
   "metadata": {},
   "outputs": [
    {
     "data": {
      "text/plain": [
       "3628800"
      ]
     },
     "execution_count": 47,
     "metadata": {},
     "output_type": "execute_result"
    }
   ],
   "source": [
    "factorial(10)"
   ]
  },
  {
   "cell_type": "markdown",
   "id": "1077f1e2-012d-457a-a995-f3a483d808f6",
   "metadata": {
    "jp-MarkdownHeadingCollapsed": true,
    "tags": []
   },
   "source": [
    "### Engligh ruler"
   ]
  },
  {
   "cell_type": "code",
   "execution_count": 53,
   "id": "044f350d-126b-4fb6-9436-c7a50da85357",
   "metadata": {},
   "outputs": [],
   "source": [
    "def draw_line(tick_length, tick_label=''):\n",
    "    \"\"\" Draw on line with given tick length/label\n",
    "    \"\"\"\n",
    "    line = '-' * tick_length\n",
    "    if tick_label:\n",
    "        line += ' ' + tick_label\n",
    "    print(line)\n",
    "\n",
    "    \n",
    "def draw_interval(center_length):\n",
    "    \"\"\"Draw tick interval based on central tick length\n",
    "    \"\"\"\n",
    "    if center_length > 0:\n",
    "        draw_interval(center_length - 1)\n",
    "        draw_line(center_length)\n",
    "        draw_interval(center_length - 1)\n",
    "\n",
    "        \n",
    "def draw_ruler(num_inches, major_length):\n",
    "    \"\"\"Draw English ruler with given number of inches, major tick length\n",
    "    \"\"\"\n",
    "    draw_line(major_length, \"0\")\n",
    "    for j in range(1, 1+num_inches):\n",
    "        draw_interval(major_length -1)\n",
    "        draw_line(major_length, str(j))"
   ]
  },
  {
   "cell_type": "code",
   "execution_count": 56,
   "id": "6469d73e-c121-417b-ae44-a5845a6fb0a6",
   "metadata": {
    "collapsed": true,
    "jupyter": {
     "outputs_hidden": true
    },
    "tags": []
   },
   "outputs": [
    {
     "name": "stdout",
     "output_type": "stream",
     "text": [
      "---- 0\n",
      "-\n",
      "--\n",
      "-\n",
      "---\n",
      "-\n",
      "--\n",
      "-\n",
      "---- 1\n"
     ]
    }
   ],
   "source": [
    "draw_ruler(1, 4)"
   ]
  },
  {
   "cell_type": "markdown",
   "id": "324082e7-3d05-4727-9b25-c8daafb4d0ef",
   "metadata": {
    "jp-MarkdownHeadingCollapsed": true,
    "tags": []
   },
   "source": [
    "### Binary Search"
   ]
  },
  {
   "cell_type": "code",
   "execution_count": 3,
   "id": "b155b980-65c4-46d8-be8d-184c0d3d8143",
   "metadata": {},
   "outputs": [],
   "source": [
    "test = [2, 4, 5, 7, 8, 9, 12, 14, 17, 19, 22, 25, 27, 28, 33, 37]"
   ]
  },
  {
   "cell_type": "code",
   "execution_count": 26,
   "id": "f7cfa391-37ad-47d9-af09-bfb1d22e4d1f",
   "metadata": {},
   "outputs": [],
   "source": [
    "def binary_search(\n",
    "    data,\n",
    "    t,\n",
    "    l=0, \n",
    "    h=None\n",
    "):\n",
    "    if not h:\n",
    "        h = len(data)        \n",
    "    if l > h:\n",
    "        return None\n",
    "    m = (l + h) // 2\n",
    "    \n",
    "    if data[m] == t:\n",
    "        return m\n",
    "    elif data[m] < t:\n",
    "        l = m + 1\n",
    "    else:\n",
    "        h = m - 1\n",
    "    return binary_search(data, t, l, h) "
   ]
  },
  {
   "cell_type": "code",
   "execution_count": 27,
   "id": "90e950bf-0f04-4398-b9c2-eb15b15684b8",
   "metadata": {},
   "outputs": [
    {
     "data": {
      "text/plain": [
       "2"
      ]
     },
     "execution_count": 27,
     "metadata": {},
     "output_type": "execute_result"
    }
   ],
   "source": [
    "binary_search(test, 5)"
   ]
  },
  {
   "cell_type": "markdown",
   "id": "f2461e41-9bc5-4bcc-818a-16e4c99c3625",
   "metadata": {
    "jp-MarkdownHeadingCollapsed": true,
    "tags": []
   },
   "source": [
    "## Recursion Analysis"
   ]
  },
  {
   "cell_type": "markdown",
   "id": "8d094589-981a-4705-95cc-4c5315cf58e1",
   "metadata": {},
   "source": [
    "Recursion analysis depends on two things, calculating the number of recursive calls as well as the operations count per recursive call. Based on the previous exampes:"
   ]
  },
  {
   "cell_type": "markdown",
   "id": "0550b410-4e77-4ce5-acb5-c21345b8a73b",
   "metadata": {
    "tags": []
   },
   "source": [
    "### Factorials"
   ]
  },
  {
   "cell_type": "markdown",
   "id": "5fc77cdf-ff7d-4404-b912-39eb96255161",
   "metadata": {},
   "source": [
    "For factorials the number of operations per call is O(1) as it is constant between an if, and two return statement with an addition.<br />\n",
    "The number of recursions on the other hand is the number of substractions it takes to get to 1! Therefore it is n.<br />\n",
    "This leads the conclusion that for n recursive calls we have a constant number of operations so it is O(n)"
   ]
  },
  {
   "cell_type": "markdown",
   "id": "6df7fece-ad3f-4ff3-96ee-c085c8e23ffb",
   "metadata": {
    "jp-MarkdownHeadingCollapsed": true,
    "tags": []
   },
   "source": [
    "### English Ruler"
   ]
  },
  {
   "cell_type": "markdown",
   "id": "b3b70cd4-a585-4b00-9fa4-d263ddc306ef",
   "metadata": {},
   "source": [
    "Only considering the draw_interval(c) recursive algorithm, analyzing the rest of the code will add much more complexity.<br />\n",
    "Using intuition by looking at the code, we notice that there are two call indicating a possible 2^n calls as for each call the number of calls grows by 2 *at each level!*<br />\n",
    "It is in fact 2^n - 1. This can be proven by induction."
   ]
  },
  {
   "cell_type": "markdown",
   "id": "8b9fc310-9eee-467d-ba80-67c5794d6d36",
   "metadata": {
    "tags": []
   },
   "source": [
    "### Binary Search"
   ]
  },
  {
   "cell_type": "markdown",
   "id": "397c4d26-1c53-4c39-ae51-c12574f2f24f",
   "metadata": {},
   "source": [
    "Binary search is the oposite of english ruler, as there is a maximum of logn + 1 recursive calls.<br />\n",
    "This could be indicated by the fact that at each level the number of possibilities is reduced by 2!<br />\n",
    "The number of possibilties can now be modeled as n/(2^j) with j being the current level./<br />\n",
    "In the worst case, the number of possibilities are 0 < 1 and therefore this can be modeled by: <br />\n",
    "n/(2^r) < 1 ----> r - logn + 1 <br />\n",
    "r and therefore the lowest level, is just a factor of logn and a constant!"
   ]
  },
  {
   "cell_type": "markdown",
   "id": "c8f7449c-9cc3-4501-85d1-a4aa3bf5324b",
   "metadata": {
    "jp-MarkdownHeadingCollapsed": true,
    "tags": []
   },
   "source": [
    "## Bad recursion"
   ]
  },
  {
   "cell_type": "markdown",
   "id": "c09b0bcc-a924-42e5-8c0f-40f2664d613a",
   "metadata": {
    "jp-MarkdownHeadingCollapsed": true,
    "tags": []
   },
   "source": [
    "### Bad recursion"
   ]
  },
  {
   "cell_type": "code",
   "execution_count": 47,
   "id": "4538467d-3200-49fc-901b-63bc797ad833",
   "metadata": {},
   "outputs": [],
   "source": [
    "def bad_fib(n):\n",
    "    if n == 0:\n",
    "        return 0\n",
    "    if n == 1:\n",
    "        return 1\n",
    "    return bad_fib(n-1) + bad_fib(n-2)"
   ]
  },
  {
   "cell_type": "code",
   "execution_count": 48,
   "id": "9eccfa0c-e762-4976-9c3f-0f723e83ad34",
   "metadata": {},
   "outputs": [
    {
     "data": {
      "text/plain": [
       "5"
      ]
     },
     "execution_count": 48,
     "metadata": {},
     "output_type": "execute_result"
    }
   ],
   "source": [
    "bad_fib(5)"
   ]
  },
  {
   "cell_type": "markdown",
   "id": "e1c0f6c7-0d50-451b-b6fa-75dfc69dfc43",
   "metadata": {},
   "source": [
    "Notice that for each recursive step, we create 2 new ones!<br />\n",
    "this is a O(2^n) in time complexity"
   ]
  },
  {
   "cell_type": "markdown",
   "id": "302a15e3-42e8-4882-a48c-7cc0a1076bce",
   "metadata": {
    "jp-MarkdownHeadingCollapsed": true,
    "tags": []
   },
   "source": [
    "### Good Fibonnacci recursion"
   ]
  },
  {
   "cell_type": "code",
   "execution_count": 35,
   "id": "b25e5e80-b503-456f-9753-10d09bf51ccf",
   "metadata": {},
   "outputs": [],
   "source": [
    "# my version :3\n",
    "def fib(n):\n",
    "    a, b = 0, 1\n",
    "    if n == 0:\n",
    "        return (a, b)\n",
    "    a, b = fib(n-1)\n",
    "    return (a+b, a)"
   ]
  },
  {
   "cell_type": "code",
   "execution_count": 36,
   "id": "99c03142-5585-4b00-99ec-be2be13b1763",
   "metadata": {},
   "outputs": [],
   "source": [
    "def fibonnacci(n):\n",
    "    if n <= 1:\n",
    "        return (n,0)\n",
    "    a, b = fibonnacci(n -1)\n",
    "    return (a+b, a)"
   ]
  },
  {
   "cell_type": "code",
   "execution_count": 37,
   "id": "2f827d8f-4cfb-4f5e-aa85-1bb158b22583",
   "metadata": {},
   "outputs": [
    {
     "data": {
      "text/plain": [
       "(5, 3)"
      ]
     },
     "execution_count": 37,
     "metadata": {},
     "output_type": "execute_result"
    }
   ],
   "source": [
    "fibonnacci(5)"
   ]
  },
  {
   "cell_type": "markdown",
   "id": "b6a7a11f-af6d-428f-a371-f2c539c3b46d",
   "metadata": {
    "jp-MarkdownHeadingCollapsed": true,
    "tags": []
   },
   "source": [
    "## Maximum recursion depth"
   ]
  },
  {
   "cell_type": "markdown",
   "id": "35c560c2-597b-468d-9771-8eb1aecae0cb",
   "metadata": {},
   "source": [
    "Make sure your recursive algorithm never has an infinite recursion. such as:\n",
    "```\n",
    "def fib(n):\n",
    "    return fib(n)\n",
    "```\n",
    "Other instances can be more insidious such as one of my previous mistake when doing binary search:\n",
    "```\n",
    "return binary_search(data, target, mid, high)\n",
    "```\n",
    "This can result in an infinite recursion as you may get to a point where there are only 2 elements! and so mid will always be 1 whereas high will always stay as 2!<br /> \n",
    "Always make sure there is a counter (n-1 at each iteration) or a guaranteed way to advance your pointers during recursion towards a breaking point! <br />\n",
    "Otherwise Python has a built-in way of limiting recursions by setting a limit, this limit can be modified with:\n",
    "```\n",
    "import sys\n",
    "old = sys.getrecursionlimit() # this is 1000 typically\n",
    "sys.setrecursionlimit(100000)\n",
    "```"
   ]
  },
  {
   "cell_type": "markdown",
   "id": "bc9f3d04-f272-41b1-b1fc-6aae9d41e43f",
   "metadata": {
    "jp-MarkdownHeadingCollapsed": true,
    "tags": []
   },
   "source": [
    "## More examples of recursion"
   ]
  },
  {
   "cell_type": "markdown",
   "id": "8cd9bb90-ee89-4d88-80ca-00142b203903",
   "metadata": {
    "jp-MarkdownHeadingCollapsed": true,
    "tags": []
   },
   "source": [
    "### Linear recursion"
   ]
  },
  {
   "cell_type": "code",
   "execution_count": 57,
   "id": "8a6fbb01-e4a4-4af8-9a17-5d7c76ce0a30",
   "metadata": {},
   "outputs": [],
   "source": [
    "def linear_sum(S, n):\n",
    "    \"\"\"Return the some of the first n elements of a sequence\"\"\"\n",
    "    if n == 0:\n",
    "        return 0\n",
    "    else:\n",
    "        return linear_sum(S, n-1) + S[n-1]"
   ]
  },
  {
   "cell_type": "markdown",
   "id": "7a44f9b9-912b-4321-8ef9-f4f04e69a1b2",
   "metadata": {},
   "source": [
    "This function is O(n) in terms of time complexity and space complexity as the recursive calls look like this:<br />\n",
    "![recursive linear_sum](../images/linear_sum_rep.png \"linear recursion representation\")\n"
   ]
  },
  {
   "cell_type": "code",
   "execution_count": 52,
   "id": "4b7bb1a0-5a5a-4479-b555-a45270a551ed",
   "metadata": {
    "tags": []
   },
   "outputs": [
    {
     "data": {
      "text/plain": [
       "[9, 8, 7, 6, 5, 4, 3, 2, 1]"
      ]
     },
     "execution_count": 52,
     "metadata": {},
     "output_type": "execute_result"
    }
   ],
   "source": [
    "test = [1, 2, 3, 4, 5, 6, 7, 8, 9]\n",
    "def reverse(S, start, stop):\n",
    "    # stop-1 because of length ! \n",
    "    if start < stop-1:\n",
    "        S[start], S[stop-1] = S[stop-1], S[start]\n",
    "        reverse(S, start+1, stop-1)\n",
    "        \n",
    "reverse(test, 0, len(test))\n",
    "test"
   ]
  },
  {
   "cell_type": "markdown",
   "id": "d0e5d127-e186-45ef-ac6b-9f1d59f90c6d",
   "metadata": {},
   "source": [
    "We notice an improvement to the recursive implementation of power using this formula:\n",
    "![recursive power](../images/power-faster.png \"power formula\")\n",
    "You will notice that at every iteration, n is divided by two, leading to a case where the time complexity, defined by the number of recursions since each is O(1) is O(logn) as it is divided by two."
   ]
  },
  {
   "cell_type": "code",
   "execution_count": 53,
   "id": "b2f9884f-bd8c-4946-988f-b9a4ac4a7123",
   "metadata": {},
   "outputs": [],
   "source": [
    "def recur_power(x,n):\n",
    "    if n <= 0:\n",
    "        return 1\n",
    "    return x*recur_power(x, n-1)\n",
    "\n",
    "def better_power(x, n):\n",
    "    \"\"\"Compute the value for x**n for integer n\"\"\"\n",
    "    if n == 0:\n",
    "        return 1\n",
    "    partial = better_power(x, n//2)\n",
    "    result = partial * partial\n",
    "    if n%2 == 1:\n",
    "        result *= x\n",
    "    return result\n"
   ]
  },
  {
   "cell_type": "code",
   "execution_count": 54,
   "id": "b596b789-5175-4c5e-800e-6a2ee9168042",
   "metadata": {},
   "outputs": [
    {
     "data": {
      "text/plain": [
       "64"
      ]
     },
     "execution_count": 54,
     "metadata": {},
     "output_type": "execute_result"
    }
   ],
   "source": [
    "recur_power(2, 6)\n",
    "better_power(2, 6)"
   ]
  },
  {
   "cell_type": "markdown",
   "id": "380c6352-2448-4f3c-98b1-ebc107c45f8d",
   "metadata": {
    "jp-MarkdownHeadingCollapsed": true,
    "tags": []
   },
   "source": [
    "### Binary Recusion"
   ]
  },
  {
   "cell_type": "markdown",
   "id": "f758bfa2-c394-4a7f-aeb2-59bddcf362a5",
   "metadata": {},
   "source": [
    "When there are two recursive calls such as for the english ruler and for the bad fibonnacci <br />\n",
    "Let us look at summing the elements of a sequence using binary recursion."
   ]
  },
  {
   "cell_type": "code",
   "execution_count": null,
   "id": "cd74065f-27ca-46e3-8028-876792dfba58",
   "metadata": {},
   "outputs": [],
   "source": [
    "def binary_sum(S, start, stop):\n",
    "    if start >= stop: # use examples to figure this out: Here what happens if we have 0 elements in slice\n",
    "        return 0\n",
    "    elif start == stop - 1: # this is for 1 element in slice\n",
    "        return S[start]\n",
    "    mid = (start + stop) // 2\n",
    "    return binary_sum(S, start, mid) + binary_sum(S, mid, stop)"
   ]
  },
  {
   "cell_type": "markdown",
   "id": "d8997126-d180-4545-b3b6-626a0ffe14c9",
   "metadata": {},
   "source": [
    "The time complexity remains the same in this case O(n) as the number of operations is O(1) whereas the function calls become 2n-1  (Looking at the figure only the first level is 1, the rest are multiples of 2!)<br />\n",
    "![recursive binary_sum](../images/recursive_binary_sum_rep.png \"binary sum recursion representation\")<br />\n",
    "In the example you provided, there can be at most 4 calls on the stack at each time. They do not all hang around. By the time we start executing 1:2 we have already finished 0:1 and removed it from the stack. Likewise, we finish 0:2 and then begin 2:4. While we execute 2:4 we do not use any space for 0:2 because it is done. We also don't use any space for future calls such as 4:8 until we finish what we are currently working on.<br />\n",
    "As such the space complexity at any one time is O(logn) in this case 4 for n=8!"
   ]
  },
  {
   "cell_type": "markdown",
   "id": "b88ff1b5-beb5-4076-bc16-abc4cc498eb1",
   "metadata": {
    "tags": []
   },
   "source": [
    "### Multiple Recusion"
   ]
  },
  {
   "cell_type": "markdown",
   "id": "151aabf5-4598-4b21-86b6-df3da256802f",
   "metadata": {},
   "source": [
    "If the functions includes more than just two recursive calls such as for filesystems. Will cover later :p "
   ]
  },
  {
   "cell_type": "markdown",
   "id": "08a4bf00-ac88-444d-8569-31e54be13329",
   "metadata": {
    "tags": []
   },
   "source": [
    "## Designing Recursive Algorithms"
   ]
  },
  {
   "cell_type": "markdown",
   "id": "b54a860f-98fa-42c4-920b-5009d4469c40",
   "metadata": {},
   "source": [
    "A recursive algorithm will typically have the following form:\n",
    "* Test for base cases: we need to make sure that the algorithm should follow a few base cases that end without recursion\n",
    "* Recur: If we have no aparent base case, we can define conditional recursive calls that individually reach a base case independently. The condition depending on the problem and is result.\n",
    "\n",
    "Parameterizing a recursion:<br />\n",
    "It not obvious at first it may be a good idea to try to create different subproblems of the original problem. If still hard, you could try using concrete examples to see how the subproblems should be defined.<br />\n",
    "This can sometimes lead to parameterizing your algorithm as was the case for the binary_search(data, target) becoming recursively binary_search(data, target, lo, high).<br />\n",
    "Another example would be with parameterizing the return function for fibonnacci series, having it return two numbers instead of one!<br />"
   ]
  },
  {
   "cell_type": "markdown",
   "id": "1d93f150-aa22-433e-84c4-00391d60d5e2",
   "metadata": {},
   "source": [
    "## Eliminating Tail Recustion"
   ]
  },
  {
   "cell_type": "markdown",
   "id": "8949af53-0bb5-4edd-9c93-d82798faa616",
   "metadata": {},
   "source": [
    "Recursion often comes a a moderate cost, in situations where resources like memory is limited, it's a good idea to derive nonrecursive algorithms from recursive ones.<br />\n",
    "We shall later see this can be done using a stack but this only shifts the memory from the interpreter to our stack. We can also reduce memory usage by storing only minimum information.<br />\n",
    "Forms of recursion can be eliminated without any axillary memory and one of such forms is with tail recursion.<br />\n",
    "A tail recursion is when the returned value is exactly the function itself! However, These cases can only occur for linear recursions.<br />\n",
    "Examples of tail recursion can be observed with non return function like reverse and binary search. Keep in mind that factorials and sums sort of count returning the elements like this n*factorial(n-1).<br />\n",
    "In these situations, recursion can be replaced entirely, through a loop or otherwise."
   ]
  },
  {
   "cell_type": "code",
   "execution_count": 61,
   "id": "85c05581-4784-47f6-a11a-47633031e899",
   "metadata": {},
   "outputs": [],
   "source": [
    "def binary_search_iterative(data, target):\n",
    "    lo = 0\n",
    "    high = len(data) - 1\n",
    "    while(lo <= high):\n",
    "        mid = (low + high) // 2\n",
    "        if data[mid] == target:\n",
    "            return True\n",
    "        if data[mid] < target:\n",
    "            low = mid - 1\n",
    "        else:\n",
    "            low = mid + 1\n",
    "    return False\n",
    "\n",
    "def reverse_iterative(S):\n",
    "    start, stop = 0, len(S)\n",
    "    while start < stop - 1:\n",
    "        S[start], S[stop-1] = S[stop-1], S[start]\n",
    "        start, stop = start + 1, stop - 1 "
   ]
  },
  {
   "cell_type": "markdown",
   "id": "fede024a-e343-4659-97b0-4d165ef332f1",
   "metadata": {
    "jp-MarkdownHeadingCollapsed": true,
    "tags": []
   },
   "source": [
    "# Chapter 5"
   ]
  },
  {
   "cell_type": "markdown",
   "id": "5197e9ce-b4c7-444e-af03-996f2f1f2ee8",
   "metadata": {},
   "source": [
    "## Low Level Array"
   ]
  },
  {
   "cell_type": "markdown",
   "id": "29c3ca10-b32e-43be-b878-dda7931783e2",
   "metadata": {},
   "source": [
    "Sequences like lists in memory are essentially sequential bytes that store similar information.<br />\n",
    "Elements of a list will occupy a certain, fixed amount of bytes. This fixed amount of bytes can also be called a cell.<br />\n",
    "In Python, Lists follow this rule, but they are referential which means each cell stores references that point to other objects in memory.<br />\n",
    "This has its advantages but may often result in a lot of overhead in terms of space and access complexity.<br />\n",
    "Compact lists are more standard implementations where instead of having cells of references, the standard cell represents a specific type, such as int, float, long...<br />\n",
    "There exists an implementation of compact lists using the array data structure in the array module.<br />\n",
    "This implementation of arrays, requires that an argument, a string as show below, specify the type of elements.<br />\n",
    "However, arrays that need to be defined with custom user types must be implemented with another module called ctypes.<br />\n",
    "<br />\n",
    "![type_representatino](../images/array_type_codes.png \"type char representation\")"
   ]
  },
  {
   "cell_type": "code",
   "execution_count": 8,
   "id": "3ddf4977-aaa5-467b-9b12-342f6be6f369",
   "metadata": {},
   "outputs": [
    {
     "name": "stdout",
     "output_type": "stream",
     "text": [
      "[1, 'lol', 23.4]\n"
     ]
    },
    {
     "data": {
      "text/plain": [
       "array('i', [1, 3, 4, 5])"
      ]
     },
     "execution_count": 8,
     "metadata": {},
     "output_type": "execute_result"
    }
   ],
   "source": [
    "from array import array\n",
    "\n",
    "referencial_list = [1, \"lol\", 23.4]\n",
    "print(referencial_list)\n",
    "compact_lists = array('i', [1, 3, 4, 5])\n",
    "compact_lists"
   ]
  },
  {
   "cell_type": "markdown",
   "id": "4fcdda14-3aaf-4f1d-b59a-d5380356e4ef",
   "metadata": {},
   "source": [
    "## Implementation of Array in Python"
   ]
  },
  {
   "cell_type": "markdown",
   "id": "d3bdeafd-3ee1-4b05-ac03-83a72cb79261",
   "metadata": {},
   "source": [
    "The Python array works by keeping 2 pointers:\n",
    "- a pointer _n to indicate current length\n",
    "- a capacity pointer _c to indicate total size of low-level array\n",
    "\n",
    "The operations are simple as we append into the List until we reach n == c.<br />\n",
    "At that point, another method called _make_array(self._c) is called to double the lowlevel array by twice the capacity and then copy over the references to the current array. "
   ]
  },
  {
   "cell_type": "markdown",
   "id": "c074d281-39bb-4087-9fe3-49e5212a2a08",
   "metadata": {},
   "source": [
    "## Amortized time complexity of append"
   ]
  },
  {
   "cell_type": "markdown",
   "id": "424cb316-8ee4-46cc-80ed-7a551228d82b",
   "metadata": {},
   "source": [
    "The time complexity of append is O(1) until we reach the point where _c = _n.<br />\n",
    "At that point, the _make_array() method creates an array of double the size O(2n) = O(n) then copies the references in the List O(n).<br /> So it's O(n) + O(n) = O(n)<br />\n",
    "Then what is the time complexity of the append operation?<br />\n",
    "As it is only occasionally O(n) we can look at this from an amortized perspective, where the operations payed for at the make_array method had already been payed for in the previous n-1 operations.<br />Using the Amortization formula it then becomes O(n)/n = O(1)<br />"
   ]
  },
  {
   "cell_type": "markdown",
   "id": "0dd84c27-d9e1-45a0-9aa0-d8b5f15c3baf",
   "metadata": {},
   "source": [
    "## Asymptotic Sequence Behaviors"
   ]
  },
  {
   "cell_type": "markdown",
   "id": "6bc2dc02-13ff-4043-9f3a-660bde9a2648",
   "metadata": {},
   "source": [
    "Tuples perform similarily to arrays although, they are somewhat faster as they are immutable. Below is a summary of time complexity of some of the different behaviors of lists/sequences:<br />\n",
    "![sequence behavior summary](../images/asymptotic_sequence_behaviors.png \"sequence behavior summary\")"
   ]
  },
  {
   "cell_type": "markdown",
   "id": "923043bc-c1b6-470d-a0c6-aeb3a922a186",
   "metadata": {},
   "source": [
    "## Other operation complexities"
   ]
  },
  {
   "cell_type": "markdown",
   "id": "730e56aa-59cb-428e-a307-c23eb47a8442",
   "metadata": {},
   "source": [
    "- Searching for occurences of a value: When searching for a value within a list, the operation will exit upon finding the value\n",
    "- Lexicographic comparisons: When comparing two sequences, the lists will compare elements from left to right to return a boolean directly. For example, [7, 3, ...] < [7, 5, ...] will return True regardless of what is after the second elements.\n",
    "- Creating new instances: slicing will create a new instance of a list but the time complexity will depend on the length of the slice [6000000:6000008] will be extremely fast compared to [6000000: 7000000]\n",
    "- Mutating behaviors"
   ]
  },
  {
   "cell_type": "markdown",
   "id": "29e87eaa-e845-4e40-aa59-a935e8058c44",
   "metadata": {
    "tags": []
   },
   "source": [
    "# Chapter 8"
   ]
  },
  {
   "cell_type": "markdown",
   "id": "c481cf60-f7e5-474c-b58f-6c3fe2cda7ec",
   "metadata": {
    "jp-MarkdownHeadingCollapsed": true,
    "tags": []
   },
   "source": [
    "## Abastract trees"
   ]
  },
  {
   "cell_type": "markdown",
   "id": "a5462181-08d0-466e-9d00-7d2155cc0143",
   "metadata": {
    "jp-MarkdownHeadingCollapsed": true,
    "tags": []
   },
   "source": [
    "We have many ways of representing trees and as such we will usually design an abstract base class fo later concrete classes to limit code reuse.<br />\n",
    "We define methods and params: root, parent, num_children, \\__children\\__, and \\__len\\__ ; each of these methods raises a NotImplementedError.<br />\n",
    "The subclasses are responsible for overriding abstract methods, such as children, to provide a working implementation for each behavior.<br />\n",
    "The Tree abstract base class does provide implementations for is_root, is_leaf, and is_empty and all of the other methods can be derived partly from all the above methods\n",
    "```\n",
    "# ---------- concrete methods implemented in this class ----------\n",
    "def is root(self, p):\n",
    "    ”””Return True if Position p represents the root of the tree.”””\n",
    "    return self.root( ) == p\n",
    "    \n",
    "def is leaf(self, p):\n",
    "    ”””Return True if Position p does not have any children.”””\n",
    "    return self.num children(p) == 0\n",
    "    \n",
    "def is empty(self):\n",
    "    ”””Return True if the tree is empty.”””\n",
    "    return len(self) == 0\n",
    "```"
   ]
  },
  {
   "cell_type": "markdown",
   "id": "eca9387d-baa4-4d1b-bfa8-4823bb038e38",
   "metadata": {},
   "source": [
    "### Getting depth of a Tree:"
   ]
  },
  {
   "cell_type": "markdown",
   "id": "3abfd0bb-f6e8-40d0-a5f2-6fc917593cac",
   "metadata": {},
   "source": [
    "The depth of p is the number of ancestors of p, excluding p itself.\n",
    "```\n",
    "def depth(self, p):\n",
    "    '''Return the number of levels separating Position p from the root.'''\n",
    "    if self.is_root(p):\n",
    "        return 0\n",
    "    else:\n",
    "        return 1 + self.depth(self.parent(p))\n",
    "```\n",
    "\n",
    "Run time of this algorithm O(n) WORST CASE (if all of the nodes are on the same branch. Otherwise, we define it as O(d) referring to the height of the tree"
   ]
  },
  {
   "cell_type": "markdown",
   "id": "215bda90-4793-4de4-992e-0addd6b7277c",
   "metadata": {
    "tags": []
   },
   "source": [
    "### Getting the height"
   ]
  },
  {
   "cell_type": "markdown",
   "id": "1c3e548f-df98-458b-bd05-5701748267d3",
   "metadata": {},
   "source": [
    "The height of a position p in a tree T is also deﬁned recursively:\n",
    " - If p is a leaf, then the height of p is 0.\n",
    " - Otherwise, the height of p is one more than the maximum of the heights of p’s children. <br />\n",
    " \n",
    "Implementations:\n",
    "\n",
    "- height1\n",
    "```\n",
    "def height1(self):\n",
    "    ”””Return the height of the tree.”””\n",
    "    return max(self.depth(p) for p in self.positions( ) if self.is leaf(p))\n",
    "```\n",
    "    O(n ^ 2) Worst case as you are doing Sigma(1 to n){O(d) + 1}\n",
    "   \n",
    "- height2\n",
    "\n",
    "```\n",
    "def height2(self, p):\n",
    "”””Return the height of the subtree rooted at Position p.”””\n",
    "    if self.is leaf(p):\n",
    "        return 0\n",
    "    else:\n",
    "        return 1 + max(self. height2(c) for c in self.children(p))\n",
    "```\n",
    "    We can determine the running time of the height2 algorithm by summing, over all the positions, the amount of time spent on the nonrecursive part of each call.\n",
    "    The algorithm is recursive, and it progresses in a top-down fashion. If the method is initially called on the root of T, it will eventually be called once for each position of T. This is because the root eventually invokes the recursion on each of its children, which in turn invokes the recursion on each of their children, and so on. So the worst case is O(n)"
   ]
  },
  {
   "cell_type": "markdown",
   "id": "956d1a43-7c96-40ad-a071-aeed6c0628fa",
   "metadata": {
    "jp-MarkdownHeadingCollapsed": true,
    "tags": []
   },
   "source": [
    "## Binary Trees"
   ]
  },
  {
   "cell_type": "markdown",
   "id": "add5cd73-5410-4727-9403-329d42c4a262",
   "metadata": {},
   "source": [
    "A binary tree is an ordered tree with the following properties:\n",
    "1. Every node has at most two children.\n",
    "2. Each child node is labeled as being either a left child or a right child.\n",
    "3. A left child precedes a right child in the order of children of a node.\n",
    "\n",
    "The subtree rooted at a left or right child of an internal node v is called a left subtree or right subtree, respectively, of v. A binary tree is proper if each node has either zero or two children. Some people also refer to such trees as being full binary trees. Thus, in a proper binary tree, every internal node has exactly two children. A binary tree that is not proper is improper."
   ]
  },
  {
   "cell_type": "markdown",
   "id": "c83ab57e-867c-49ec-9acd-3fd94c0192ab",
   "metadata": {},
   "source": [
    "We denote the set of all nodes of a tree T at the same depth d as level d of T. In a binary tree, level 0 has at most one node (the root), level 1 has at most two nodes (the children of the root), level 2 has at most four nodes, and so on. (See Figure 8.9.) In general, level d has at most 2 ^ d nodes."
   ]
  },
  {
   "cell_type": "markdown",
   "id": "99813720-f426-4e86-b115-cbdd3e0d51b9",
   "metadata": {},
   "source": [
    "- The len method, implemented in LinkedBinaryTree, uses an instance variable\n",
    "storing the number of nodes of T and takes O(1) time. Method is empty,\n",
    "inherited from Tree, relies on a single call to len and thus takes O(1) time.\n",
    "- The accessor methods root, left, right, parent, and num children are imple-\n",
    "mented directly in LinkedBinaryTree and take O(1) time. The sibling and\n",
    "children methods are derived in BinaryTree based on a constant number of\n",
    "calls to these other accessors, so they run in O(1) time as well.\n",
    "- The is root and is leaf methods, from the Tree class, both run in O(1) time,\n",
    "as is root calls root and then relies on equivalence testing of positions, while\n",
    "is leaf calls left and right and veriﬁes that None is returned by both.\n",
    "- Methods depth and height were each analyzed in Section 8.1.3. The depth\n",
    "method at position p runs in O(d p + 1) time where d p is its depth; the height\n",
    "method on the root of the tree runs in O(n) time.\n",
    "- The various update methods add root, add left, add right, replace, delete,\n",
    "and attach (that is, their nonpublic implementations) each run in O(1) time,\n",
    "as they involve relinking only a constant number of nodes per operation."
   ]
  },
  {
   "cell_type": "markdown",
   "id": "6ddbc7fe-32d9-440e-8771-b0b83f55f5ba",
   "metadata": {},
   "source": [
    "![binarytreeOs](../images/BinaryTreeOperationsRuntime.png \"Binary Tree\")"
   ]
  },
  {
   "cell_type": "markdown",
   "id": "c2b95f45-2d76-46c0-8ba7-45eb7ec8b0c9",
   "metadata": {
    "tags": []
   },
   "source": [
    "### Preorder and Postorder Traversals of General Trees"
   ]
  },
  {
   "cell_type": "markdown",
   "id": "e6ad7bf0-5202-4276-a788-540d1a4ceb14",
   "metadata": {},
   "source": [
    "In a preorder traversal of a tree T , the root of T is visited ﬁrst and then the sub-trees rooted at its children are traversed recursively. If the tree is ordered, then the subtrees are traversed according to the order of the children.\n",
    "```\n",
    "Algorithm preorder(T, p):\n",
    "    perform the “visit” action for position p\n",
    "    for each child c in T.children(p) do\n",
    "        preorder(T, c)\n",
    "```"
   ]
  },
  {
   "cell_type": "markdown",
   "id": "40ef74b2-7a81-4dfb-a702-8e1bdcd74b85",
   "metadata": {},
   "source": [
    "In a postorder traversal The only difference is that within the recursive utility for a post-order we wait to yield position p until after we have recursively yield the positions in its subtrees.\n",
    "```\n",
    "Algorithm postorder(T, p):\n",
    "    for each child c in T.children(p) do\n",
    "        postorder(T, c)\n",
    "{recursively traverse the subtree rooted at c}\n",
    "perform the “visit” action for position p\n",
    "```"
   ]
  },
  {
   "cell_type": "markdown",
   "id": "aff531cd-59eb-4817-b748-eaac38fe28ac",
   "metadata": {},
   "source": [
    "In order follows a similar pattern in that it places the parent node in between the visit to each other child nodes\n",
    "```\n",
    "Algorithm inorder(p):\n",
    "    if p has a left child lc then\n",
    "        inorder(lc)\n",
    "        {recursively traverse the left subtree of p}\n",
    "    perform the “visit” action for position p\n",
    "    if p has a right child rc then\n",
    "        inorder(rc)\n",
    "```"
   ]
  },
  {
   "cell_type": "markdown",
   "id": "e4f9cee2-c461-46cf-92c0-a9387c25332d",
   "metadata": {},
   "source": [
    "Breadth First Search Algorithm<br />\n",
    "O(n), due to the n calls to enqueue and\n",
    "n calls to dequeue.\n",
    "\n",
    "```\n",
    "Algorithm breadthﬁrst(T):\n",
    "    Initialize queue Q to contain T.root( )\n",
    "    while Q not empty do\n",
    "        p = Q.dequeue( )\n",
    "        {p is the oldest entry in the queue}\n",
    "        perform the “visit” action for position p\n",
    "        for each child c in T.children(p) do\n",
    "            Q.enqueue(c)\n",
    "```"
   ]
  },
  {
   "cell_type": "code",
   "execution_count": null,
   "id": "99b78a2a-dffc-4579-8b04-59f9e3aa8a6a",
   "metadata": {},
   "outputs": [],
   "source": []
  }
 ],
 "metadata": {
  "kernelspec": {
   "display_name": "Python 3 (ipykernel)",
   "language": "python",
   "name": "python3"
  },
  "language_info": {
   "codemirror_mode": {
    "name": "ipython",
    "version": 3
   },
   "file_extension": ".py",
   "mimetype": "text/x-python",
   "name": "python",
   "nbconvert_exporter": "python",
   "pygments_lexer": "ipython3",
   "version": "3.9.13"
  }
 },
 "nbformat": 4,
 "nbformat_minor": 5
}
