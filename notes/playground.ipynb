{
 "cells": [
  {
   "cell_type": "markdown",
   "id": "9b484c90-4cb5-4888-909a-fedadd7b6226",
   "metadata": {},
   "source": [
    "## Queue in python"
   ]
  },
  {
   "cell_type": "markdown",
   "id": "95c17c62-7982-4173-8aeb-22fe6da649f5",
   "metadata": {},
   "source": [
    "first in first out"
   ]
  },
  {
   "cell_type": "code",
   "execution_count": 7,
   "id": "000a6407-a196-4742-8272-96831dcd2210",
   "metadata": {},
   "outputs": [],
   "source": [
    "class Queue():\n",
    "    def __init__(self):\n",
    "        self.queue = []\n",
    "        \n",
    "    def enqueue(self, ele):\n",
    "        self.queue.append(ele)\n",
    "    \n",
    "    def dequeue(self):\n",
    "        return self.queue.pop(0)"
   ]
  },
  {
   "cell_type": "code",
   "execution_count": 8,
   "id": "a78d44e2-ab11-4860-9496-620200f5507a",
   "metadata": {},
   "outputs": [],
   "source": [
    "queue = Queue()"
   ]
  },
  {
   "cell_type": "code",
   "execution_count": 9,
   "id": "360f28ff-a461-4190-b151-37e2d7ec7281",
   "metadata": {},
   "outputs": [
    {
     "data": {
      "text/plain": [
       "1"
      ]
     },
     "execution_count": 9,
     "metadata": {},
     "output_type": "execute_result"
    }
   ],
   "source": [
    "queue.enqueue(1)\n",
    "queue.enqueue(2)\n",
    "queue.enqueue(3)\n",
    "queue.enqueue(4)\n",
    "queue.dequeue()"
   ]
  },
  {
   "cell_type": "code",
   "execution_count": 10,
   "id": "f17f9035-87ba-41c0-9432-6195ce889230",
   "metadata": {},
   "outputs": [
    {
     "data": {
      "text/plain": [
       "[2, 3, 4]"
      ]
     },
     "execution_count": 10,
     "metadata": {},
     "output_type": "execute_result"
    }
   ],
   "source": [
    "queue.queue"
   ]
  },
  {
   "cell_type": "markdown",
   "id": "f673fb79-e265-4b04-a4da-537e9a73f299",
   "metadata": {},
   "source": [
    "## Stack in python"
   ]
  },
  {
   "cell_type": "code",
   "execution_count": 13,
   "id": "790e6a34-1a20-4a58-8d19-06c0661ecb44",
   "metadata": {},
   "outputs": [],
   "source": [
    "class Stack():\n",
    "    def __init__(self):\n",
    "        self.stack = []\n",
    "    \n",
    "    def push(self, ele):\n",
    "        self.stack.append(ele)\n",
    "    \n",
    "    def pop(self):\n",
    "        return self.stack.pop(-1)"
   ]
  },
  {
   "cell_type": "code",
   "execution_count": 14,
   "id": "9e75e276-5462-45f3-a805-bdfe034d49d7",
   "metadata": {},
   "outputs": [
    {
     "data": {
      "text/plain": [
       "4"
      ]
     },
     "execution_count": 14,
     "metadata": {},
     "output_type": "execute_result"
    }
   ],
   "source": [
    "stack = Stack()\n",
    "stack.push(1)\n",
    "stack.push(2)\n",
    "stack.push(3)\n",
    "stack.push(4)\n",
    "stack.pop()"
   ]
  },
  {
   "cell_type": "code",
   "execution_count": 15,
   "id": "ef5d94b8-4dcf-4634-be22-2a4fd235ecb9",
   "metadata": {},
   "outputs": [
    {
     "data": {
      "text/plain": [
       "[1, 2, 3]"
      ]
     },
     "execution_count": 15,
     "metadata": {},
     "output_type": "execute_result"
    }
   ],
   "source": [
    "stack.stack"
   ]
  },
  {
   "cell_type": "markdown",
   "id": "f5aa14e3-0f7f-48b3-b80b-b2abe43909f4",
   "metadata": {},
   "source": [
    "# Binary Tree"
   ]
  },
  {
   "cell_type": "markdown",
   "id": "caeabeea-565f-49e3-b79c-17a58bc35bf5",
   "metadata": {},
   "source": [
    "## Inorder"
   ]
  },
  {
   "cell_type": "code",
   "execution_count": 17,
   "id": "4ae2b96b-f04a-4343-a214-a575aac6a272",
   "metadata": {},
   "outputs": [
    {
     "name": "stdout",
     "output_type": "stream",
     "text": [
      "Recursive Inorder Traversal:\n",
      "[3, 1, 2]\n"
     ]
    }
   ],
   "source": [
    "# Define the TreeNode class for the binary tree node\n",
    "class TreeNode:\n",
    "    def __init__(self, val=0, left=None, right=None):\n",
    "        self.val = val\n",
    "        self.left = left\n",
    "        self.right = right\n",
    "\n",
    "# Recursive inorderTraversal function\n",
    "def inorderTraversal_recursive(node, out=None):\n",
    "    if out is None:\n",
    "        out = []\n",
    "        \n",
    "    if not node:\n",
    "        return out\n",
    "    \n",
    "    inorderTraversal_recursive(node.left, out)\n",
    "    out.append(node.val)\n",
    "    inorderTraversal_recursive(node.right, out)\n",
    "    return out\n",
    "\n",
    "\n",
    "# Iterative inorderTraversal function\n",
    "def inorderTraversal_iterative(root):\n",
    "    stack = []\n",
    "    result = []\n",
    "    curr = root\n",
    "\n",
    "    while curr or stack:\n",
    "        while curr:\n",
    "            stack.append(curr)\n",
    "            curr = curr.left\n",
    "\n",
    "        curr = stack.pop()\n",
    "        result.append(curr.val)\n",
    "        curr = curr.right\n",
    "\n",
    "    return result\n",
    "\n",
    "# Test the functions\n",
    "# Create a sample binary tree\n",
    "root = TreeNode(1)\n",
    "root.right = TreeNode(2)\n",
    "root.left = TreeNode(3)\n",
    "\n",
    "# Test the recursive function\n",
    "print(\"Recursive Inorder Traversal:\")\n",
    "print(inorderTraversal_recursive(root))\n",
    "\n",
    "# Test the iterative function\n",
    "# print(\"Iterative Inorder Traversal:\")\n",
    "# print(inorderTraversal_iterative(root))"
   ]
  },
  {
   "cell_type": "markdown",
   "id": "38c1a831-6d83-43f7-8823-e5b945449f46",
   "metadata": {},
   "source": [
    "## PostOrder"
   ]
  },
  {
   "cell_type": "code",
   "execution_count": null,
   "id": "2c71f38f-b77a-43d7-8133-4a058e331e29",
   "metadata": {},
   "outputs": [],
   "source": [
    "# Define the TreeNode class for the binary tree node\n",
    "class TreeNode:\n",
    "    def __init__(self, val=0, left=None, right=None):\n",
    "        self.val = val\n",
    "        self.left = left\n",
    "        self.right = right\n",
    "\n",
    "# Recursive inorderTraversal function\n",
    "def inorderTraversal_recursive(node, out=None):\n",
    "    if out is None:\n",
    "        out = []\n",
    "        \n",
    "    if not node:\n",
    "        return out\n",
    "    \n",
    "    inorderTraversal_recursive(node.left, out)\n",
    "    out.append(node.val)\n",
    "    inorderTraversal_recursive(node.right, out)\n",
    "    return out\n",
    "\n",
    "\n",
    "# Iterative PostTraversal function\n",
    "def postorderTraversal(root):\n",
    "    stack = []\n",
    "    out = []\n",
    "    curr = root\n",
    "    \n",
    "    while(len(stack) > 0 or curr):\n",
    "        while curr:\n",
    "            stack.append(curr)\n",
    "            curr = curr.right\n",
    "\n",
    "# Create a sample binary tree\n",
    "root = TreeNode(1)\n",
    "root.right = TreeNode(2)\n",
    "root.left = TreeNode(3)\n",
    "\n",
    "# Test the recursive function\n",
    "print(\"Recursive Inorder Traversal:\")\n",
    "print(inorderTraversal_recursive(root))\n",
    "\n",
    "# Test the iterative function\n",
    "# print(\"Iterative Inorder Traversal:\")\n",
    "# print(inorderTraversal_iterative(root))"
   ]
  }
 ],
 "metadata": {
  "kernelspec": {
   "display_name": "Python 3 (ipykernel)",
   "language": "python",
   "name": "python3"
  },
  "language_info": {
   "codemirror_mode": {
    "name": "ipython",
    "version": 3
   },
   "file_extension": ".py",
   "mimetype": "text/x-python",
   "name": "python",
   "nbconvert_exporter": "python",
   "pygments_lexer": "ipython3",
   "version": "3.9.13"
  }
 },
 "nbformat": 4,
 "nbformat_minor": 5
}
